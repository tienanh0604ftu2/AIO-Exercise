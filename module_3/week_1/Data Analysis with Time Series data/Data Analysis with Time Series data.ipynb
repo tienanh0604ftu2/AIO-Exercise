{
 "cells": [
  {
   "cell_type": "markdown",
   "id": "42a561c5-cf86-474b-a7da-b6455c277628",
   "metadata": {},
   "source": [
    "- Time series data is a form of data with values measured at different points in time.\n",
    "- Some time series data is distributed according to a certain frequency, for example, weather in 1 hour, website \n",
    "traffic during the day, total revenue in the month... Time series data can also be distributed with intervals. \n",
    "irregularly, for example the number of emergency calls during the day or system logs"
   ]
  },
  {
   "attachments": {},
   "cell_type": "markdown",
   "id": "b6eb91a6-a412-4d15-bc73-2b8e5ada4890",
   "metadata": {},
   "source": []
  },
  {
   "cell_type": "markdown",
   "id": "3883aba3-f371-49ce-818a-555e30116080",
   "metadata": {},
   "source": [
    "In this section, we will explore the aspect of data organization and visualization for time series.\n",
    "-  Rolling windows\n",
    "Specifically with time series data for energy, we will become familiar with the application of time-based indexing, \n",
    "resampling, and rolling techniques. This will help us analyze important aspects of hidden information in the data. \n",
    "For example, Rolling windows can help us explore variations in electricity demand and renewable energy supply \n",
    "over time. We use the daily time series data set of Open Power System Data (OPSD) in Germany, including total \n",
    "electricity consumption, wind power production and solar power production nationwide in the period 2006-2017. \n"
   ]
  },
  {
   "cell_type": "markdown",
   "id": "8e3d92dd-3393-44a1-9bdc-a149a1a07f82",
   "metadata": {},
   "source": [
    "We will do the following:\n",
    "-  Seasonality\n",
    "-  Import libraries and read dataset\n",
    "- Time-based indexing\n",
    "- Visualizing time series data\n",
    "- Resampling\n",
    "- Rolling windows\n",
    "- Trends"
   ]
  },
  {
   "cell_type": "code",
   "execution_count": null,
   "id": "d3c28b64-0f17-4e00-af29-dda4c3e7c37b",
   "metadata": {},
   "outputs": [],
   "source": []
  },
  {
   "cell_type": "markdown",
   "id": "31408db0-c0c0-487f-aae9-77123a393ba3",
   "metadata": {},
   "source": [
    "We will explore how electricity consumption and production in Germany change over time, and:\n",
    "- When is electricity consumption typically highest and lowest?\n",
    "- How has wind and solar energy production changed seasonally?\n",
    "- What are the long-term trends in electricity, solar and wind energy consumption?\n",
    "- Compare the ratio of wind and solar energy output to wind and solar energy consumption, and how has this ratio changed over time?"
   ]
  },
  {
   "cell_type": "code",
   "execution_count": null,
   "id": "4e17b5dc-a2d5-4cb3-8c22-7c1929d07da5",
   "metadata": {},
   "outputs": [],
   "source": []
  },
  {
   "cell_type": "code",
   "execution_count": null,
   "id": "23753c4d-3b15-4337-b67d-cd2cda2c0059",
   "metadata": {},
   "outputs": [],
   "source": []
  }
 ],
 "metadata": {
  "kernelspec": {
   "display_name": "Python 3 (ipykernel)",
   "language": "python",
   "name": "python3"
  },
  "language_info": {
   "codemirror_mode": {
    "name": "ipython",
    "version": 3
   },
   "file_extension": ".py",
   "mimetype": "text/x-python",
   "name": "python",
   "nbconvert_exporter": "python",
   "pygments_lexer": "ipython3",
   "version": "3.11.7"
  },
  "widgets": {
   "application/vnd.jupyter.widget-state+json": {
    "state": {},
    "version_major": 2,
    "version_minor": 0
   }
  }
 },
 "nbformat": 4,
 "nbformat_minor": 5
}
