{
 "cells": [
  {
   "cell_type": "markdown",
   "id": "dab02cb8-6d14-4052-a8d0-8dd56f60f5fd",
   "metadata": {},
   "source": [
    "Pandas is a library in Python with the advantages of being fast, powerful, flexible, easy to use, open source, \n",
    "and a tool for analyzing and manipulating data. Pandas is built on the NumPy library and has many functions \n",
    "that support cleaning, analyzing, and manipulating valuable data, which can help us extract insights from data \n",
    "sets. Pandas is very effective when used on tabular data, such as SQL tables or Excel spreadsheets."
   ]
  },
  {
   "cell_type": "markdown",
   "id": "9dc778c9-72c0-4ad0-b838-389b7a588b49",
   "metadata": {},
   "source": [
    "# Series"
   ]
  },
  {
   "cell_type": "markdown",
   "id": "865697ef-dd07-4211-8868-66adb90ff17e",
   "metadata": {},
   "source": [
    " The structure is a 1D array with homogeneous data. The data type can be integer, string, float, \r\n",
    "etc. The labeling axis is called the index. The size of the series is immutable and the data value can be \r\n",
    "changed (mutable)"
   ]
  },
  {
   "cell_type": "markdown",
   "id": "c1025d58-8c8e-4d46-881a-60ff9b55e9b2",
   "metadata": {},
   "source": [
    " pandas.Series(data, index, dtype, copy):\n",
    "- data: This is the input data for the Series. It can be any iterable (like a list, tuple, NumPy array, or dictionary). The values from this iterable will populate the Series.\n",
    "- index: This is an optional argument. It represents the labels (or the \"index\") for the Series. If not provided, pandas will automatically generate a default index, which is a sequence of integers starting from 0. If provided, the length of the index should match the length of data.\n",
    "- dtype: This optional argument specifies the data type for the Series. If not provided, pandas will infer the data type from the data. You can explicitly set it, for example, to dtype='float64', dtype='int', or any other valid pandas data type.\n",
    "- copy: This optional boolean argument indicates whether to copy the data or not. If copy=True, a copy of the input data is made. If copy=False, no copy is made, and any modifications to the original data will be reflected in the Series."
   ]
  },
  {
   "cell_type": "markdown",
   "id": "9eed9e89-b996-4389-befe-275b8849d9e9",
   "metadata": {},
   "source": [
    "Example"
   ]
  },
  {
   "cell_type": "code",
   "execution_count": 1,
   "id": "7cd281a4-7dd3-440a-af49-c6b08323ac16",
   "metadata": {},
   "outputs": [
    {
     "name": "stdout",
     "output_type": "stream",
     "text": [
      "a    1.0\n",
      "b    2.0\n",
      "c    3.0\n",
      "d    4.0\n",
      "dtype: float64\n"
     ]
    }
   ],
   "source": [
    "import pandas as pd\n",
    "\n",
    "# Example data\n",
    "data = [1, 2, 3, 4]\n",
    "index = ['a', 'b', 'c', 'd']\n",
    "\n",
    "# Creating a Series\n",
    "series = pd.Series(data, index=index, dtype='float64', copy=False)\n",
    "\n",
    "print(series)"
   ]
  },
  {
   "cell_type": "code",
   "execution_count": null,
   "id": "0f8eaafe-c9bd-4a0d-bc12-0da1fd8073a5",
   "metadata": {},
   "outputs": [],
   "source": []
  },
  {
   "cell_type": "markdown",
   "id": "6a39cb90-0e2b-4d81-9f6d-834ed77dbd75",
   "metadata": {},
   "source": [
    "# DataFrame"
   ]
  },
  {
   "cell_type": "markdown",
   "id": "47e0c615-02ce-4a26-b9a6-1c333f4c9cee",
   "metadata": {},
   "source": [
    "Is a 2D data structure, in the form of a table consisting of columns and rows, columns can \n",
    "define different data types. Columns have different data types such as float64, int, bool, etc. A column \n",
    "of DataFrame is a Series structure. DataFrame dimensions are labeled in rows and columns. From \n",
    "there, we can operate on both rows and columns."
   ]
  },
  {
   "cell_type": "markdown",
   "id": "b79b6625-6ccd-4889-8f3d-f7bd89ae28c1",
   "metadata": {},
   "source": [
    "pandas.DataFrame(data, index, columns, dtype, copy)"
   ]
  },
  {
   "cell_type": "markdown",
   "id": "57645b39-1c82-44c0-ac2b-cfba85ed4ed6",
   "metadata": {},
   "source": [
    "Arguments Breakdown:\n",
    "- data: The input data for the DataFrame. It can be a variety of data structures, including:\n",
    "A dictionary of lists or NumPy arrays.\n",
    "A list of lists (or 2D arrays).\n",
    "A NumPy array.\n",
    "Another DataFrame.\n",
    "A dictionary of Series.\n",
    "- index: This is an optional argument. It represents the labels for the rows of the DataFrame. If not provided, pandas will automatically generate a default index (like in a Series), which is a sequence of integers starting from 0.\n",
    "- columns: This is an optional argument. It represents the labels for the columns. If not provided, and the data is a dictionary, the dictionary keys will be used as column names. If data is a 2D array or list of lists, you need to provide column names explicitly.\n",
    "- dtype: This optional argument allows you to specify the data type for the entire DataFrame (e.g., dtype='float64'). If not provided, pandas will infer the data types for each column based on the input data.\n",
    "- copy: This optional boolean argument indicates whether to copy the input data or not. If copy=True, a copy of the input data is made, and modifications to the original data will not affect the DataFrame. If copy=False, no copy is made, and changes to the original data will be reflected in the DataFrame."
   ]
  },
  {
   "cell_type": "code",
   "execution_count": 3,
   "id": "cccbbf11-f1e4-440c-94a7-42961e9d7578",
   "metadata": {},
   "outputs": [
    {
     "name": "stdout",
     "output_type": "stream",
     "text": [
      "      Name Age         City\n",
      "A    Alice  25     New York\n",
      "B      Bob  30  Los Angeles\n",
      "C  Charlie  35      Chicago\n"
     ]
    }
   ],
   "source": [
    "import pandas as pd\n",
    "\n",
    "# Example data: Dictionary of lists\n",
    "data = {\n",
    "    'Name': ['Alice', 'Bob', 'Charlie'],\n",
    "    'Age': [25, 30, 35],\n",
    "    'City': ['New York', 'Los Angeles', 'Chicago']\n",
    "}\n",
    "\n",
    "# Specifying the index and columns\n",
    "index = ['A', 'B', 'C']\n",
    "columns = ['Name', 'Age', 'City']\n",
    "\n",
    "# Creating a DataFrame\n",
    "df = pd.DataFrame(data, index=index, columns=columns, dtype='object', copy=False)\n",
    "\n",
    "# Displaying the DataFrame\n",
    "print(df)"
   ]
  },
  {
   "cell_type": "markdown",
   "id": "332f6e1b-8bdd-4c96-ac9d-6dadc6a78e86",
   "metadata": {},
   "source": [
    " DataFrame can be considered as a list containing Series."
   ]
  },
  {
   "cell_type": "code",
   "execution_count": null,
   "id": "93ea3fc8-db69-4a66-a592-94f16db518ba",
   "metadata": {},
   "outputs": [],
   "source": []
  },
  {
   "cell_type": "markdown",
   "id": "e35584e5-6727-4b30-b4fe-eb658ed2ac0d",
   "metadata": {},
   "source": [
    "#  Panel"
   ]
  },
  {
   "cell_type": "markdown",
   "id": "5d54516a-e41e-4308-b853-9e27fdec32d2",
   "metadata": {},
   "source": [
    "- items: axis 0, each item corresponds to the DataFrame contained inside.\n",
    "- – major_axis: axis 1, it is the rows of each DataFrame.\n",
    "- minor_axis: axis 2, it is the columns of each DataFrame"
   ]
  },
  {
   "cell_type": "code",
   "execution_count": null,
   "id": "62813657-93ea-4415-af43-ccfb91e21414",
   "metadata": {},
   "outputs": [],
   "source": []
  },
  {
   "cell_type": "code",
   "execution_count": null,
   "id": "4c292383-ed1e-4f93-8297-affff3099615",
   "metadata": {},
   "outputs": [],
   "source": []
  },
  {
   "cell_type": "markdown",
   "id": "2d834177-338a-406e-ac3a-baf7c2fc1b64",
   "metadata": {},
   "source": [
    "# Some functions on Pandas are commonly used to process data:"
   ]
  },
  {
   "cell_type": "markdown",
   "id": "e591a78e-1949-4776-b274-28f9ea2289fa",
   "metadata": {},
   "source": [
    "Handle missing values: isna(), notna() – search for NA, isnull() values"
   ]
  },
  {
   "cell_type": "markdown",
   "id": "6f78cd14-5e80-4637-8ce0-045112e47959",
   "metadata": {},
   "source": [
    "isna(): This function detects missing values in a DataFrame or Series and returns a DataFrame or Series of the same shape, where each entry is True if the corresponding entry in the original data is missing (i.e., NaN) and False if not."
   ]
  },
  {
   "cell_type": "markdown",
   "id": "4364bbe8-d1ca-410f-84da-8910227127bf",
   "metadata": {},
   "source": [
    "notna(): This is the opposite of isna(). It returns True for non-missing values and False for missing values."
   ]
  },
  {
   "cell_type": "markdown",
   "id": "23b8ea69-709f-476c-a7c9-4db893c358cc",
   "metadata": {},
   "source": [
    "isnull(): This is essentially the same as isna(). It checks for missing values and returns True where values are missing. It's an alias for isna()."
   ]
  },
  {
   "cell_type": "code",
   "execution_count": 5,
   "id": "364c3320-2901-4806-bd8f-335f6c30b238",
   "metadata": {},
   "outputs": [
    {
     "name": "stdout",
     "output_type": "stream",
     "text": [
      "Original DataFrame:\n",
      "      Name   Age         City\n",
      "0    Alice  25.0     New York\n",
      "1      Bob   NaN  Los Angeles\n",
      "2  Charlie  35.0         None\n",
      "3     None  40.0      Chicago\n"
     ]
    }
   ],
   "source": [
    "import pandas as pd\n",
    "import numpy as np\n",
    "\n",
    "# Creating a DataFrame with some missing values\n",
    "data = {\n",
    "    'Name': ['Alice', 'Bob', 'Charlie', None],\n",
    "    'Age': [25, None, 35, 40],\n",
    "    'City': ['New York', 'Los Angeles', None, 'Chicago']\n",
    "}\n",
    "\n",
    "df = pd.DataFrame(data)\n",
    "\n",
    "# Displaying the DataFrame\n",
    "print(\"Original DataFrame:\")\n",
    "print(df)"
   ]
  },
  {
   "cell_type": "code",
   "execution_count": null,
   "id": "340a8dc4-67dc-400d-a4b8-812dfdd9df07",
   "metadata": {},
   "outputs": [],
   "source": []
  },
  {
   "cell_type": "code",
   "execution_count": 6,
   "id": "ad13773b-e0fd-4c2a-84b4-21b7ca17b7dc",
   "metadata": {},
   "outputs": [
    {
     "name": "stdout",
     "output_type": "stream",
     "text": [
      "\n",
      "Missing values detected using isna():\n",
      "    Name    Age   City\n",
      "0  False  False  False\n",
      "1  False   True  False\n",
      "2  False  False   True\n",
      "3   True  False  False\n"
     ]
    }
   ],
   "source": [
    "# Detect missing values using isna()\n",
    "missing_values = df.isna()\n",
    "print(\"\\nMissing values detected using isna():\")\n",
    "print(missing_values)"
   ]
  },
  {
   "cell_type": "code",
   "execution_count": null,
   "id": "b9737429-dcab-4575-ad50-77c853cf3f2e",
   "metadata": {},
   "outputs": [],
   "source": []
  },
  {
   "cell_type": "code",
   "execution_count": 7,
   "id": "01a33fbe-b02a-46c7-8378-560bb6516a51",
   "metadata": {},
   "outputs": [
    {
     "name": "stdout",
     "output_type": "stream",
     "text": [
      "\n",
      "Non-missing values detected using notna():\n",
      "    Name    Age   City\n",
      "0   True   True   True\n",
      "1   True  False   True\n",
      "2   True   True  False\n",
      "3  False   True   True\n"
     ]
    }
   ],
   "source": [
    "# Detect non-missing values using notna()\n",
    "non_missing_values = df.notna()\n",
    "print(\"\\nNon-missing values detected using notna():\")\n",
    "print(non_missing_values)"
   ]
  },
  {
   "cell_type": "code",
   "execution_count": null,
   "id": "c4e4abb0-93a8-42b6-996d-4455395cf942",
   "metadata": {},
   "outputs": [],
   "source": []
  },
  {
   "cell_type": "code",
   "execution_count": 8,
   "id": "3e3ccf40-cf7d-438b-9a54-31392f35de86",
   "metadata": {},
   "outputs": [
    {
     "name": "stdout",
     "output_type": "stream",
     "text": [
      "\n",
      "Missing values detected using isnull():\n",
      "    Name    Age   City\n",
      "0  False  False  False\n",
      "1  False   True  False\n",
      "2  False  False   True\n",
      "3   True  False  False\n"
     ]
    }
   ],
   "source": [
    "# Using isnull() (same as isna())\n",
    "null_values = df.isnull()\n",
    "print(\"\\nMissing values detected using isnull():\")\n",
    "print(null_values)"
   ]
  },
  {
   "cell_type": "code",
   "execution_count": null,
   "id": "96f9dfcb-545b-44ce-832b-3ae7536205ee",
   "metadata": {},
   "outputs": [],
   "source": []
  },
  {
   "cell_type": "markdown",
   "id": "76fb3d9e-d71d-4d69-a1f7-9b215b09a906",
   "metadata": {},
   "source": [
    "Key Takeaways:\n",
    "- isna() and isnull() are used to identify missing values, returning True where data is missing.\n",
    "- notna() is used to identify non-missing values, returning True where data is present."
   ]
  },
  {
   "cell_type": "code",
   "execution_count": null,
   "id": "bd8f0e48-120f-48ad-a555-b57f29110768",
   "metadata": {},
   "outputs": [],
   "source": []
  },
  {
   "cell_type": "markdown",
   "id": "1abc45a1-0c46-4e9b-8276-0dd2be676e04",
   "metadata": {},
   "source": [
    "# Indexing and Slicing in Pandas"
   ]
  },
  {
   "cell_type": "markdown",
   "id": "b5b7323a-dffc-4d94-9ed8-e4cbc7cbfd4c",
   "metadata": {},
   "source": [
    "In pandas, indexing and slicing allow you to access and manipulate specific rows and columns of your DataFrame. The two primary ways to do this are:"
   ]
  },
  {
   "cell_type": "markdown",
   "id": "e6273785-fd4d-4f1d-9fcb-239d5c9fa3bc",
   "metadata": {},
   "source": [
    "- .loc[]: Label-based indexing.\n",
    "- .iloc[]: Integer-based indexing."
   ]
  },
  {
   "cell_type": "code",
   "execution_count": null,
   "id": "04459905-60bd-4aa1-909f-f8d5e5b018ec",
   "metadata": {},
   "outputs": [],
   "source": []
  },
  {
   "cell_type": "markdown",
   "id": "30843083-07d0-4555-a1f7-c5e3ab2e23f1",
   "metadata": {},
   "source": [
    "- .loc[] (Label-based indexing)\n",
    "- .loc[] is used to select rows and columns by labels (names).\n",
    "It can be used to select a specific row or column by name, or a range of rows and columns by their names."
   ]
  },
  {
   "cell_type": "code",
   "execution_count": null,
   "id": "35740ee9-324f-4d86-b4c1-7b3e5c40a192",
   "metadata": {},
   "outputs": [],
   "source": []
  },
  {
   "cell_type": "code",
   "execution_count": 11,
   "id": "1faf0771-4000-49d5-ada0-13f7ea9d1f28",
   "metadata": {},
   "outputs": [
    {
     "name": "stdout",
     "output_type": "stream",
     "text": [
      "                B\n",
      "Name          Bob\n",
      "Age            30\n",
      "City  Los Angeles\n"
     ]
    }
   ],
   "source": [
    "import pandas as pd\n",
    "\n",
    "# Sample DataFrame\n",
    "data = {\n",
    "    'Name': ['Alice', 'Bob', 'Charlie', 'David'],\n",
    "    'Age': [25, 30, 35, 40],\n",
    "    'City': ['New York', 'Los Angeles', 'Chicago', 'Houston']\n",
    "}\n",
    "\n",
    "df = pd.DataFrame(data, index=['A', 'B', 'C', 'D'])\n",
    "\n",
    "# Selecting a row by label\n",
    "print(df.loc['B'].to_frame())\n",
    "\n",
    "# df.loc['B'] selects the row with the label 'B'."
   ]
  },
  {
   "cell_type": "code",
   "execution_count": null,
   "id": "1f961173-8ae0-4c1a-bc0f-067643c852f2",
   "metadata": {},
   "outputs": [],
   "source": []
  },
  {
   "cell_type": "code",
   "execution_count": 12,
   "id": "25e42cdd-c855-4c31-beca-5e523164f79f",
   "metadata": {},
   "outputs": [
    {
     "name": "stdout",
     "output_type": "stream",
     "text": [
      "      Name      City\n",
      "A    Alice  New York\n",
      "C  Charlie   Chicago\n"
     ]
    }
   ],
   "source": [
    "# Selecting multiple rows and columns by labels\n",
    "print(df.loc[['A', 'C'], ['Name', 'City']])"
   ]
  },
  {
   "cell_type": "code",
   "execution_count": null,
   "id": "d7c6f186-598c-4a06-b9ff-34648dc7e763",
   "metadata": {},
   "outputs": [],
   "source": []
  },
  {
   "cell_type": "code",
   "execution_count": 13,
   "id": "20fddcf8-15f8-4d2a-ac90-07937709c5f2",
   "metadata": {},
   "outputs": [
    {
     "name": "stdout",
     "output_type": "stream",
     "text": [
      "      Name  Age         City\n",
      "B      Bob   30  Los Angeles\n",
      "C  Charlie   35      Chicago\n",
      "D    David   40      Houston\n"
     ]
    }
   ],
   "source": [
    "# Slicing rows by label\n",
    "print(df.loc['B':'D', :])"
   ]
  },
  {
   "cell_type": "code",
   "execution_count": null,
   "id": "289c6ab4-ba84-42ef-a778-5512e3c91cdc",
   "metadata": {},
   "outputs": [],
   "source": []
  },
  {
   "cell_type": "code",
   "execution_count": null,
   "id": "b3cde9e9-1421-4ec7-a0b0-fa586da29ff5",
   "metadata": {},
   "outputs": [],
   "source": []
  },
  {
   "cell_type": "markdown",
   "id": "ccadcb8a-3c53-4814-99df-327473048934",
   "metadata": {},
   "source": [
    "# .iloc[] (Integer-based indexing)"
   ]
  },
  {
   "cell_type": "markdown",
   "id": "9b4bb9f5-9cbe-43b4-ba79-9133faf703a0",
   "metadata": {},
   "source": [
    ".iloc[] is used to select rows and columns by their integer position (like Python's built-in indexing).\n",
    "It is useful when you don't know the labels or prefer to use index positions."
   ]
  },
  {
   "cell_type": "code",
   "execution_count": 14,
   "id": "f4809c83-cc85-4929-a8b6-1b37edc82456",
   "metadata": {},
   "outputs": [
    {
     "name": "stdout",
     "output_type": "stream",
     "text": [
      "Name            Bob\n",
      "Age              30\n",
      "City    Los Angeles\n",
      "Name: B, dtype: object\n"
     ]
    }
   ],
   "source": [
    "# Selecting a row by integer position\n",
    "print(df.iloc[1])"
   ]
  },
  {
   "cell_type": "code",
   "execution_count": null,
   "id": "4d8cb812-2a8a-4eca-9ad4-bb5b4f3370c6",
   "metadata": {},
   "outputs": [],
   "source": []
  },
  {
   "cell_type": "code",
   "execution_count": 15,
   "id": "83eded7d-453c-4828-bd9f-7523f19c9e3f",
   "metadata": {},
   "outputs": [
    {
     "name": "stdout",
     "output_type": "stream",
     "text": [
      "      Name      City\n",
      "A    Alice  New York\n",
      "C  Charlie   Chicago\n"
     ]
    }
   ],
   "source": [
    "# Selecting multiple rows and columns by integer positions\n",
    "print(df.iloc[[0, 2], [0, 2]])"
   ]
  },
  {
   "cell_type": "code",
   "execution_count": null,
   "id": "68add01c-9c00-4df6-8541-aed8732ebad6",
   "metadata": {},
   "outputs": [],
   "source": []
  },
  {
   "cell_type": "code",
   "execution_count": 16,
   "id": "4425fe2a-5c27-4af7-b3f9-d613cde63c4a",
   "metadata": {},
   "outputs": [
    {
     "name": "stdout",
     "output_type": "stream",
     "text": [
      "      Name  Age         City\n",
      "B      Bob   30  Los Angeles\n",
      "C  Charlie   35      Chicago\n"
     ]
    }
   ],
   "source": [
    "# Slicing rows by integer position\n",
    "print(df.iloc[1:3, :])"
   ]
  },
  {
   "cell_type": "code",
   "execution_count": null,
   "id": "1b2200c6-7e26-428f-89b5-5dd5e69f0d3f",
   "metadata": {},
   "outputs": [],
   "source": []
  },
  {
   "cell_type": "markdown",
   "id": "e9644fed-0add-439c-8538-2a611908ba85",
   "metadata": {},
   "source": [
    "# Queries in Pandas (Like in Excel or SQL)"
   ]
  },
  {
   "cell_type": "markdown",
   "id": "5ea786e7-8b61-4b07-a8fa-3a307b208831",
   "metadata": {},
   "source": [
    "In pandas, you can perform queries to filter your data based on specific conditions, similar to how you might use WHERE in SQL or filters in Excel."
   ]
  },
  {
   "cell_type": "markdown",
   "id": "bd41314c-aea4-47cb-91f4-2348d75107f8",
   "metadata": {},
   "source": [
    "# where() Method\n",
    "- The where() method is used to filter data based on conditions. It keeps the original data structure but replaces values that don't meet the condition with NaN."
   ]
  },
  {
   "cell_type": "code",
   "execution_count": null,
   "id": "48008d70-1c8d-489d-9d2e-dd05449e52e8",
   "metadata": {},
   "outputs": [],
   "source": []
  },
  {
   "cell_type": "code",
   "execution_count": 17,
   "id": "28c2cc0b-7ecf-4b6f-9555-64237aef19e3",
   "metadata": {},
   "outputs": [
    {
     "name": "stdout",
     "output_type": "stream",
     "text": [
      "      Name   Age     City\n",
      "A      NaN   NaN      NaN\n",
      "B      NaN   NaN      NaN\n",
      "C  Charlie  35.0  Chicago\n",
      "D    David  40.0  Houston\n"
     ]
    }
   ],
   "source": [
    "# Using where() to filter rows where 'Age' > 30\n",
    "filtered_df = df.where(df['Age'] > 30)\n",
    "print(filtered_df)"
   ]
  },
  {
   "cell_type": "code",
   "execution_count": null,
   "id": "d9d57a92-a96e-4163-b6f5-ba761c055fad",
   "metadata": {},
   "outputs": [],
   "source": []
  },
  {
   "cell_type": "markdown",
   "id": "7f8c4574-4835-481d-b618-79b9a3baef80",
   "metadata": {},
   "source": [
    "This code filters rows where the 'Age' is greater than 30. Rows that don't meet the condition are replaced with NaN."
   ]
  },
  {
   "cell_type": "code",
   "execution_count": null,
   "id": "fed99c3b-b49d-4a77-96ff-3e75c877031c",
   "metadata": {},
   "outputs": [],
   "source": []
  },
  {
   "cell_type": "markdown",
   "id": "afb093d1-3848-4353-b2a6-01145160eb36",
   "metadata": {},
   "source": [
    "# query() Method"
   ]
  },
  {
   "cell_type": "markdown",
   "id": "48af80af-c27d-472c-9dbc-776567adf82e",
   "metadata": {},
   "source": [
    "- The query() method provides a more SQL-like syntax for filtering data in pandas. It is more intuitive for complex queries involving multiple conditions."
   ]
  },
  {
   "cell_type": "code",
   "execution_count": null,
   "id": "ec3edd60-353e-49a2-a656-82578b3fced4",
   "metadata": {},
   "outputs": [],
   "source": []
  },
  {
   "cell_type": "code",
   "execution_count": 18,
   "id": "efda8e71-4df4-4da4-a467-ada18ca5d261",
   "metadata": {},
   "outputs": [
    {
     "name": "stdout",
     "output_type": "stream",
     "text": [
      "      Name  Age     City\n",
      "C  Charlie   35  Chicago\n"
     ]
    }
   ],
   "source": [
    "# Using query() to filter rows where 'Age' > 30 and 'City' is 'Chicago'\n",
    "filtered_df = df.query(\"Age > 30 and City == 'Chicago'\")\n",
    "print(filtered_df)"
   ]
  },
  {
   "cell_type": "code",
   "execution_count": null,
   "id": "a68405e7-8d9d-46fa-b856-5fa558fa7442",
   "metadata": {},
   "outputs": [],
   "source": []
  },
  {
   "cell_type": "code",
   "execution_count": null,
   "id": "55e9379d-5399-4908-80e6-87313b6cee87",
   "metadata": {},
   "outputs": [],
   "source": []
  },
  {
   "cell_type": "markdown",
   "id": "88dc5cce-c456-422d-9c26-b871b23a9fe1",
   "metadata": {},
   "source": [
    "# • Series basic functionality: axes, dtype, empty, ndim, size, values, head(), tail()."
   ]
  },
  {
   "cell_type": "markdown",
   "id": "14fdec34-07ce-4c75-82ff-1782b593b9b2",
   "metadata": {},
   "source": [
    "\n",
    "In pandas, a Series is a one-dimensional labeled array capable of holding data of any type. Here are some of the basic functionalities and attributes of a Series, along with explanations and examples.\n",
    "\n",
    "Basic Functionality of a Series\n",
    "axes: Returns the list of the axis labels of the Series. For a Series, it returns a list with one element, which is the index.\n",
    "\n",
    "dtype: The data type of the elements in the Series.\n",
    "\n",
    "empty: A boolean attribute that indicates whether the Series is empty (i.e., has no elements).\n",
    "\n",
    "ndim: The number of dimensions of the Series. For a Series, this will always be 1.\n",
    "\n",
    "size: The number of elements in the Series.\n",
    "\n",
    "values: Returns the data of the Series as a NumPy array.\n",
    "\n",
    "head(n): Returns the first n elements of the Series. The default value for n is 5.\n",
    "\n",
    "tail(n): Returns the last n elements of the Series. The default value for n is 5."
   ]
  },
  {
   "cell_type": "code",
   "execution_count": null,
   "id": "c9e3d12e-d38b-4827-bd26-9bf570100351",
   "metadata": {},
   "outputs": [],
   "source": []
  },
  {
   "cell_type": "code",
   "execution_count": 19,
   "id": "a2a1e6ba-584b-41e8-8aa6-e87d4572d6e6",
   "metadata": {},
   "outputs": [],
   "source": [
    "import pandas as pd\n",
    "\n",
    "# Creating a Series\n",
    "data = pd.Series([10, 20, 30, 40, 50], index=['a', 'b', 'c', 'd', 'e'])"
   ]
  },
  {
   "cell_type": "code",
   "execution_count": null,
   "id": "29342baf-f8fb-49db-a123-e5de461d47a3",
   "metadata": {},
   "outputs": [],
   "source": []
  },
  {
   "cell_type": "code",
   "execution_count": 20,
   "id": "474a3bb9-5ce7-40d3-b5cd-65d99d1143bc",
   "metadata": {},
   "outputs": [
    {
     "name": "stdout",
     "output_type": "stream",
     "text": [
      "Series:\n",
      "a    10\n",
      "b    20\n",
      "c    30\n",
      "d    40\n",
      "e    50\n",
      "dtype: int64\n"
     ]
    }
   ],
   "source": [
    "# Displaying the Series\n",
    "print(\"Series:\")\n",
    "print(data)"
   ]
  },
  {
   "cell_type": "code",
   "execution_count": null,
   "id": "d475652d-5a89-4c95-8684-69be6d0d4c63",
   "metadata": {},
   "outputs": [],
   "source": []
  },
  {
   "cell_type": "code",
   "execution_count": 25,
   "id": "2969eee0-cf26-4597-93a4-3129b71a71e7",
   "metadata": {},
   "outputs": [
    {
     "name": "stdout",
     "output_type": "stream",
     "text": [
      "\n",
      "Axes:\n",
      "[Index(['a', 'b', 'c', 'd', 'e'], dtype='object')]\n"
     ]
    }
   ],
   "source": [
    "# Axes\n",
    "print(\"\\nAxes:\")\n",
    "print(data.axes)"
   ]
  },
  {
   "cell_type": "code",
   "execution_count": null,
   "id": "f41203ad-f023-474e-bc70-c519aefb2b60",
   "metadata": {},
   "outputs": [],
   "source": []
  },
  {
   "cell_type": "code",
   "execution_count": 26,
   "id": "7de26605-033b-4141-aac0-158d691a3dc5",
   "metadata": {},
   "outputs": [
    {
     "name": "stdout",
     "output_type": "stream",
     "text": [
      "\n",
      "Data type:\n",
      "int64\n"
     ]
    }
   ],
   "source": [
    "# Data type\n",
    "print(\"\\nData type:\")\n",
    "print(data.dtype)"
   ]
  },
  {
   "cell_type": "code",
   "execution_count": null,
   "id": "5fefbdf9-8297-4e08-a31e-0c1281afd1fa",
   "metadata": {},
   "outputs": [],
   "source": []
  },
  {
   "cell_type": "code",
   "execution_count": 27,
   "id": "55d4bfa2-05e3-4674-8533-1dfd661fe061",
   "metadata": {},
   "outputs": [
    {
     "name": "stdout",
     "output_type": "stream",
     "text": [
      "\n",
      "Is the Series empty?\n",
      "False\n"
     ]
    }
   ],
   "source": [
    "# Check if Series is empty\n",
    "print(\"\\nIs the Series empty?\")\n",
    "print(data.empty)"
   ]
  },
  {
   "cell_type": "code",
   "execution_count": null,
   "id": "68b95cbc-44f4-4b49-942f-0823d991007c",
   "metadata": {},
   "outputs": [],
   "source": []
  },
  {
   "cell_type": "code",
   "execution_count": 28,
   "id": "63b673f2-a759-4168-84c8-39f2d8612075",
   "metadata": {},
   "outputs": [
    {
     "name": "stdout",
     "output_type": "stream",
     "text": [
      "\n",
      "Number of dimensions:\n",
      "1\n"
     ]
    }
   ],
   "source": [
    "# Number of dimensions\n",
    "print(\"\\nNumber of dimensions:\")\n",
    "print(data.ndim)"
   ]
  },
  {
   "cell_type": "code",
   "execution_count": null,
   "id": "64041382-fb60-405c-9740-616d6f7035f2",
   "metadata": {},
   "outputs": [],
   "source": []
  },
  {
   "cell_type": "code",
   "execution_count": 29,
   "id": "efc31be3-ee46-4c92-bc0d-7062525ec35e",
   "metadata": {},
   "outputs": [
    {
     "name": "stdout",
     "output_type": "stream",
     "text": [
      "\n",
      "Size:\n",
      "5\n"
     ]
    }
   ],
   "source": [
    "# Size of the Series\n",
    "print(\"\\nSize:\")\n",
    "print(data.size)"
   ]
  },
  {
   "cell_type": "code",
   "execution_count": null,
   "id": "a85bfad3-e847-4197-b4ad-69fbfef189c4",
   "metadata": {},
   "outputs": [],
   "source": []
  },
  {
   "cell_type": "code",
   "execution_count": 30,
   "id": "822f6128-436b-40c8-afea-1a191e9addd4",
   "metadata": {},
   "outputs": [
    {
     "name": "stdout",
     "output_type": "stream",
     "text": [
      "\n",
      "Values:\n",
      "[10 20 30 40 50]\n"
     ]
    }
   ],
   "source": [
    "# Values of the Series\n",
    "print(\"\\nValues:\")\n",
    "print(data.values)"
   ]
  },
  {
   "cell_type": "code",
   "execution_count": null,
   "id": "8432f79f-c342-4591-8456-4d5d5a986008",
   "metadata": {},
   "outputs": [],
   "source": []
  },
  {
   "cell_type": "code",
   "execution_count": 31,
   "id": "14edc133-e708-4c6c-8288-94518c312f7c",
   "metadata": {},
   "outputs": [
    {
     "name": "stdout",
     "output_type": "stream",
     "text": [
      "\n",
      "First 3 elements (head):\n",
      "a    10\n",
      "b    20\n",
      "c    30\n",
      "dtype: int64\n"
     ]
    }
   ],
   "source": [
    "# First 3 elements\n",
    "print(\"\\nFirst 3 elements (head):\")\n",
    "print(data.head(3))"
   ]
  },
  {
   "cell_type": "code",
   "execution_count": null,
   "id": "6f06d654-70b5-49b6-8e30-4e6364c7fe02",
   "metadata": {},
   "outputs": [],
   "source": []
  },
  {
   "cell_type": "code",
   "execution_count": 32,
   "id": "6c9eae8b-fa4c-45b2-a272-d755687aa36f",
   "metadata": {},
   "outputs": [
    {
     "name": "stdout",
     "output_type": "stream",
     "text": [
      "\n",
      "Last 2 elements (tail):\n",
      "d    40\n",
      "e    50\n",
      "dtype: int64\n"
     ]
    }
   ],
   "source": [
    "# Last 2 elements\n",
    "print(\"\\nLast 2 elements (tail):\")\n",
    "print(data.tail(2))"
   ]
  },
  {
   "cell_type": "code",
   "execution_count": null,
   "id": "ed08b11f-1b27-4ada-8b60-ac5275cc355f",
   "metadata": {},
   "outputs": [],
   "source": []
  },
  {
   "cell_type": "markdown",
   "id": "4bb10eb2-868b-4c90-9c3c-d6ea5289885f",
   "metadata": {},
   "source": [
    "# • Dataframe basic functionality: T, axes, dtypes, empty, ndim, shape, size, values, head(), tail()."
   ]
  },
  {
   "cell_type": "markdown",
   "id": "c718a0aa-e4e6-48f4-8ef8-5092afa28bf5",
   "metadata": {},
   "source": [
    "Basic Functionality of a DataFrame\n",
    "T: Transposes the DataFrame, swapping rows and columns.\n",
    "\n",
    "axes: Returns a list of the DataFrame's row and column labels.\n",
    "\n",
    "dtypes: Returns the data types of each column in the DataFrame.\n",
    "\n",
    "empty: Checks if the DataFrame is empty (i.e., has no elements).\n",
    "\n",
    "ndim: The number of dimensions of the DataFrame. For a DataFrame, this will always be 2.\n",
    "\n",
    "shape: Returns a tuple representing the dimensions of the DataFrame (rows, columns).\n",
    "\n",
    "size: The total number of elements in the DataFrame.\n",
    "\n",
    "values: Returns the data of the DataFrame as a NumPy array.\n",
    "\n",
    "head(n): Returns the first n rows of the DataFrame. The default value for n is 5.\n",
    "\n",
    "tail(n): Returns the last n rows of the DataFrame. The default value for n is 5."
   ]
  },
  {
   "cell_type": "code",
   "execution_count": null,
   "id": "de1a6179-9e4e-4b66-b8f8-9978c2d25ba5",
   "metadata": {},
   "outputs": [],
   "source": []
  },
  {
   "cell_type": "code",
   "execution_count": 33,
   "id": "867225b8-3605-4d7c-904c-0a67e92282ab",
   "metadata": {},
   "outputs": [],
   "source": [
    "import pandas as pd\n",
    "\n",
    "# Creating a DataFrame\n",
    "data = {\n",
    "    'Name': ['Alice', 'Bob', 'Charlie', 'David'],\n",
    "    'Age': [25, 30, 35, 40],\n",
    "    'City': ['New York', 'Los Angeles', 'Chicago', 'Houston']\n",
    "}\n",
    "\n",
    "df = pd.DataFrame(data)"
   ]
  },
  {
   "cell_type": "code",
   "execution_count": null,
   "id": "4be0efba-3b7b-4f71-98f2-0f8874a99980",
   "metadata": {},
   "outputs": [],
   "source": []
  },
  {
   "cell_type": "code",
   "execution_count": 36,
   "id": "ec8c04e1-fa24-4379-a0d1-eeeaefe5e09a",
   "metadata": {},
   "outputs": [
    {
     "name": "stdout",
     "output_type": "stream",
     "text": [
      "DataFrame:\n"
     ]
    },
    {
     "data": {
      "text/html": [
       "<div>\n",
       "<style scoped>\n",
       "    .dataframe tbody tr th:only-of-type {\n",
       "        vertical-align: middle;\n",
       "    }\n",
       "\n",
       "    .dataframe tbody tr th {\n",
       "        vertical-align: top;\n",
       "    }\n",
       "\n",
       "    .dataframe thead th {\n",
       "        text-align: right;\n",
       "    }\n",
       "</style>\n",
       "<table border=\"1\" class=\"dataframe\">\n",
       "  <thead>\n",
       "    <tr style=\"text-align: right;\">\n",
       "      <th></th>\n",
       "      <th>Name</th>\n",
       "      <th>Age</th>\n",
       "      <th>City</th>\n",
       "    </tr>\n",
       "  </thead>\n",
       "  <tbody>\n",
       "    <tr>\n",
       "      <th>0</th>\n",
       "      <td>Alice</td>\n",
       "      <td>25</td>\n",
       "      <td>New York</td>\n",
       "    </tr>\n",
       "    <tr>\n",
       "      <th>1</th>\n",
       "      <td>Bob</td>\n",
       "      <td>30</td>\n",
       "      <td>Los Angeles</td>\n",
       "    </tr>\n",
       "    <tr>\n",
       "      <th>2</th>\n",
       "      <td>Charlie</td>\n",
       "      <td>35</td>\n",
       "      <td>Chicago</td>\n",
       "    </tr>\n",
       "    <tr>\n",
       "      <th>3</th>\n",
       "      <td>David</td>\n",
       "      <td>40</td>\n",
       "      <td>Houston</td>\n",
       "    </tr>\n",
       "  </tbody>\n",
       "</table>\n",
       "</div>"
      ],
      "text/plain": [
       "      Name  Age         City\n",
       "0    Alice   25     New York\n",
       "1      Bob   30  Los Angeles\n",
       "2  Charlie   35      Chicago\n",
       "3    David   40      Houston"
      ]
     },
     "execution_count": 36,
     "metadata": {},
     "output_type": "execute_result"
    }
   ],
   "source": [
    "# Displaying the DataFrame\n",
    "print(\"DataFrame:\")\n",
    "df"
   ]
  },
  {
   "cell_type": "code",
   "execution_count": null,
   "id": "bdb718a5-8ead-453a-9d97-726943ab1b95",
   "metadata": {},
   "outputs": [],
   "source": []
  },
  {
   "cell_type": "code",
   "execution_count": 38,
   "id": "c2771027-641b-4ca5-8cca-02ffa4e7429d",
   "metadata": {},
   "outputs": [
    {
     "name": "stdout",
     "output_type": "stream",
     "text": [
      "\n",
      "Transpose (T):\n"
     ]
    },
    {
     "data": {
      "text/html": [
       "<div>\n",
       "<style scoped>\n",
       "    .dataframe tbody tr th:only-of-type {\n",
       "        vertical-align: middle;\n",
       "    }\n",
       "\n",
       "    .dataframe tbody tr th {\n",
       "        vertical-align: top;\n",
       "    }\n",
       "\n",
       "    .dataframe thead th {\n",
       "        text-align: right;\n",
       "    }\n",
       "</style>\n",
       "<table border=\"1\" class=\"dataframe\">\n",
       "  <thead>\n",
       "    <tr style=\"text-align: right;\">\n",
       "      <th></th>\n",
       "      <th>0</th>\n",
       "      <th>1</th>\n",
       "      <th>2</th>\n",
       "      <th>3</th>\n",
       "    </tr>\n",
       "  </thead>\n",
       "  <tbody>\n",
       "    <tr>\n",
       "      <th>Name</th>\n",
       "      <td>Alice</td>\n",
       "      <td>Bob</td>\n",
       "      <td>Charlie</td>\n",
       "      <td>David</td>\n",
       "    </tr>\n",
       "    <tr>\n",
       "      <th>Age</th>\n",
       "      <td>25</td>\n",
       "      <td>30</td>\n",
       "      <td>35</td>\n",
       "      <td>40</td>\n",
       "    </tr>\n",
       "    <tr>\n",
       "      <th>City</th>\n",
       "      <td>New York</td>\n",
       "      <td>Los Angeles</td>\n",
       "      <td>Chicago</td>\n",
       "      <td>Houston</td>\n",
       "    </tr>\n",
       "  </tbody>\n",
       "</table>\n",
       "</div>"
      ],
      "text/plain": [
       "             0            1        2        3\n",
       "Name     Alice          Bob  Charlie    David\n",
       "Age         25           30       35       40\n",
       "City  New York  Los Angeles  Chicago  Houston"
      ]
     },
     "execution_count": 38,
     "metadata": {},
     "output_type": "execute_result"
    }
   ],
   "source": [
    "# Transpose\n",
    "print(\"\\nTranspose (T):\")\n",
    "df.T"
   ]
  },
  {
   "cell_type": "code",
   "execution_count": null,
   "id": "ba0cfe8f-195d-43d1-a473-adf54cbefcf8",
   "metadata": {},
   "outputs": [],
   "source": []
  },
  {
   "cell_type": "code",
   "execution_count": 40,
   "id": "a8685ad7-7f59-4d97-8b81-f8214c0f1151",
   "metadata": {},
   "outputs": [
    {
     "name": "stdout",
     "output_type": "stream",
     "text": [
      "\n",
      "Axes:\n"
     ]
    },
    {
     "data": {
      "text/plain": [
       "[RangeIndex(start=0, stop=4, step=1),\n",
       " Index(['Name', 'Age', 'City'], dtype='object')]"
      ]
     },
     "execution_count": 40,
     "metadata": {},
     "output_type": "execute_result"
    }
   ],
   "source": [
    "# Axes\n",
    "print(\"\\nAxes:\")\n",
    "df.axes"
   ]
  },
  {
   "cell_type": "code",
   "execution_count": null,
   "id": "06d23243-5ace-43bb-814d-555daa981848",
   "metadata": {},
   "outputs": [],
   "source": []
  },
  {
   "cell_type": "code",
   "execution_count": 41,
   "id": "75456322-a3f2-4fbd-a426-c96b1a12603b",
   "metadata": {},
   "outputs": [
    {
     "name": "stdout",
     "output_type": "stream",
     "text": [
      "\n",
      "Data types:\n"
     ]
    },
    {
     "data": {
      "text/plain": [
       "Name    object\n",
       "Age      int64\n",
       "City    object\n",
       "dtype: object"
      ]
     },
     "execution_count": 41,
     "metadata": {},
     "output_type": "execute_result"
    }
   ],
   "source": [
    "# Data types\n",
    "print(\"\\nData types:\")\n",
    "df.dtypes"
   ]
  },
  {
   "cell_type": "code",
   "execution_count": null,
   "id": "6ccc8abd-4d04-4f86-baeb-fd81ff092202",
   "metadata": {},
   "outputs": [],
   "source": []
  },
  {
   "cell_type": "code",
   "execution_count": 42,
   "id": "51db71c3-b316-435b-ac7f-700ea0a3a106",
   "metadata": {},
   "outputs": [
    {
     "name": "stdout",
     "output_type": "stream",
     "text": [
      "\n",
      "Is the DataFrame empty?\n"
     ]
    },
    {
     "data": {
      "text/plain": [
       "False"
      ]
     },
     "execution_count": 42,
     "metadata": {},
     "output_type": "execute_result"
    }
   ],
   "source": [
    "# Check if DataFrame is empty\n",
    "print(\"\\nIs the DataFrame empty?\")\n",
    "df.empty"
   ]
  },
  {
   "cell_type": "code",
   "execution_count": null,
   "id": "b8a86c7e-6d50-441c-ae4e-8ea948a36cee",
   "metadata": {},
   "outputs": [],
   "source": []
  },
  {
   "cell_type": "code",
   "execution_count": 43,
   "id": "a3b6ff49-2e55-485a-9ba6-7f592a708d1c",
   "metadata": {},
   "outputs": [
    {
     "name": "stdout",
     "output_type": "stream",
     "text": [
      "\n",
      "Number of dimensions:\n",
      "2\n"
     ]
    }
   ],
   "source": [
    "# Number of dimensions\n",
    "print(\"\\nNumber of dimensions:\")\n",
    "print(df.ndim)"
   ]
  },
  {
   "cell_type": "code",
   "execution_count": null,
   "id": "b25f564b-78c5-49e4-b848-d14460b38a91",
   "metadata": {},
   "outputs": [],
   "source": []
  },
  {
   "cell_type": "code",
   "execution_count": 44,
   "id": "aa2fbc98-8205-4a26-a2d3-9b3eacc26649",
   "metadata": {},
   "outputs": [
    {
     "name": "stdout",
     "output_type": "stream",
     "text": [
      "\n",
      "Shape:\n",
      "(4, 3)\n"
     ]
    }
   ],
   "source": [
    "# Shape of the DataFrame\n",
    "print(\"\\nShape:\")\n",
    "print(df.shape)"
   ]
  },
  {
   "cell_type": "code",
   "execution_count": null,
   "id": "0d0f02e7-0c44-4d94-9bc4-c23093e2a8f0",
   "metadata": {},
   "outputs": [],
   "source": []
  },
  {
   "cell_type": "code",
   "execution_count": 45,
   "id": "75f646d2-3e5c-46e0-951d-93989b959a84",
   "metadata": {},
   "outputs": [
    {
     "name": "stdout",
     "output_type": "stream",
     "text": [
      "\n",
      "Size:\n",
      "12\n"
     ]
    }
   ],
   "source": [
    "# Size of the DataFrame\n",
    "print(\"\\nSize:\")\n",
    "print(df.size)"
   ]
  },
  {
   "cell_type": "code",
   "execution_count": null,
   "id": "2d52e933-18dd-48e4-9a1f-b8991ea5c003",
   "metadata": {},
   "outputs": [],
   "source": []
  },
  {
   "cell_type": "code",
   "execution_count": 47,
   "id": "46794d94-29b1-40af-80b2-4f363dfd3384",
   "metadata": {},
   "outputs": [
    {
     "name": "stdout",
     "output_type": "stream",
     "text": [
      "\n",
      "Values:\n"
     ]
    },
    {
     "data": {
      "text/plain": [
       "array([['Alice', 25, 'New York'],\n",
       "       ['Bob', 30, 'Los Angeles'],\n",
       "       ['Charlie', 35, 'Chicago'],\n",
       "       ['David', 40, 'Houston']], dtype=object)"
      ]
     },
     "execution_count": 47,
     "metadata": {},
     "output_type": "execute_result"
    }
   ],
   "source": [
    "# Values of the DataFrame\n",
    "print(\"\\nValues:\")\n",
    "df.values"
   ]
  },
  {
   "cell_type": "code",
   "execution_count": null,
   "id": "413093b2-4ed1-4dbc-b3e2-176ea2abbfc8",
   "metadata": {},
   "outputs": [],
   "source": []
  },
  {
   "cell_type": "code",
   "execution_count": 48,
   "id": "a424d041-a4c8-4dbc-abd1-b9c97b4f0a27",
   "metadata": {},
   "outputs": [
    {
     "name": "stdout",
     "output_type": "stream",
     "text": [
      "\n",
      "First 3 rows (head):\n"
     ]
    },
    {
     "data": {
      "text/html": [
       "<div>\n",
       "<style scoped>\n",
       "    .dataframe tbody tr th:only-of-type {\n",
       "        vertical-align: middle;\n",
       "    }\n",
       "\n",
       "    .dataframe tbody tr th {\n",
       "        vertical-align: top;\n",
       "    }\n",
       "\n",
       "    .dataframe thead th {\n",
       "        text-align: right;\n",
       "    }\n",
       "</style>\n",
       "<table border=\"1\" class=\"dataframe\">\n",
       "  <thead>\n",
       "    <tr style=\"text-align: right;\">\n",
       "      <th></th>\n",
       "      <th>Name</th>\n",
       "      <th>Age</th>\n",
       "      <th>City</th>\n",
       "    </tr>\n",
       "  </thead>\n",
       "  <tbody>\n",
       "    <tr>\n",
       "      <th>0</th>\n",
       "      <td>Alice</td>\n",
       "      <td>25</td>\n",
       "      <td>New York</td>\n",
       "    </tr>\n",
       "    <tr>\n",
       "      <th>1</th>\n",
       "      <td>Bob</td>\n",
       "      <td>30</td>\n",
       "      <td>Los Angeles</td>\n",
       "    </tr>\n",
       "    <tr>\n",
       "      <th>2</th>\n",
       "      <td>Charlie</td>\n",
       "      <td>35</td>\n",
       "      <td>Chicago</td>\n",
       "    </tr>\n",
       "  </tbody>\n",
       "</table>\n",
       "</div>"
      ],
      "text/plain": [
       "      Name  Age         City\n",
       "0    Alice   25     New York\n",
       "1      Bob   30  Los Angeles\n",
       "2  Charlie   35      Chicago"
      ]
     },
     "execution_count": 48,
     "metadata": {},
     "output_type": "execute_result"
    }
   ],
   "source": [
    "# First 3 rows\n",
    "print(\"\\nFirst 3 rows (head):\")\n",
    "df.head(3)"
   ]
  },
  {
   "cell_type": "code",
   "execution_count": null,
   "id": "27457f95-4fa2-4050-9a90-204f24e1dfde",
   "metadata": {},
   "outputs": [],
   "source": []
  },
  {
   "cell_type": "code",
   "execution_count": 49,
   "id": "4946fbf5-86aa-4eb5-afd6-f1b1f05f2cda",
   "metadata": {},
   "outputs": [
    {
     "name": "stdout",
     "output_type": "stream",
     "text": [
      "\n",
      "Last 2 rows (tail):\n"
     ]
    },
    {
     "data": {
      "text/html": [
       "<div>\n",
       "<style scoped>\n",
       "    .dataframe tbody tr th:only-of-type {\n",
       "        vertical-align: middle;\n",
       "    }\n",
       "\n",
       "    .dataframe tbody tr th {\n",
       "        vertical-align: top;\n",
       "    }\n",
       "\n",
       "    .dataframe thead th {\n",
       "        text-align: right;\n",
       "    }\n",
       "</style>\n",
       "<table border=\"1\" class=\"dataframe\">\n",
       "  <thead>\n",
       "    <tr style=\"text-align: right;\">\n",
       "      <th></th>\n",
       "      <th>Name</th>\n",
       "      <th>Age</th>\n",
       "      <th>City</th>\n",
       "    </tr>\n",
       "  </thead>\n",
       "  <tbody>\n",
       "    <tr>\n",
       "      <th>2</th>\n",
       "      <td>Charlie</td>\n",
       "      <td>35</td>\n",
       "      <td>Chicago</td>\n",
       "    </tr>\n",
       "    <tr>\n",
       "      <th>3</th>\n",
       "      <td>David</td>\n",
       "      <td>40</td>\n",
       "      <td>Houston</td>\n",
       "    </tr>\n",
       "  </tbody>\n",
       "</table>\n",
       "</div>"
      ],
      "text/plain": [
       "      Name  Age     City\n",
       "2  Charlie   35  Chicago\n",
       "3    David   40  Houston"
      ]
     },
     "execution_count": 49,
     "metadata": {},
     "output_type": "execute_result"
    }
   ],
   "source": [
    "# Last 2 rows\n",
    "print(\"\\nLast 2 rows (tail):\")\n",
    "df.tail(2)"
   ]
  },
  {
   "cell_type": "code",
   "execution_count": null,
   "id": "b8316c47-2fc8-4267-9f53-1551c41d59c8",
   "metadata": {},
   "outputs": [],
   "source": []
  },
  {
   "cell_type": "markdown",
   "id": "e51a5741-d374-4fcc-9aa8-e4560f363291",
   "metadata": {},
   "source": [
    "# Statistical Functions in Pandas"
   ]
  },
  {
   "cell_type": "markdown",
   "id": "c7ce66ea-e6fa-41e6-b151-a56c36c6b6c8",
   "metadata": {},
   "source": [
    "count(): Counts the number of non-NA/null entries in each column.\n",
    "\n",
    "sum(): Computes the sum of the values in each column.\n",
    "\n",
    "mean(): Calculates the mean (average) of the values in each column.\n",
    "\n",
    "median(): Computes the median (middle value) of the values in each column.\n",
    "\n",
    "mode(): Returns the mode(s) (most frequent value(s)) of the values in each column.\n",
    "\n",
    "std(): Calculates the standard deviation of the values in each column.\n",
    "\n",
    "min(): Finds the minimum value in each column.\n",
    "\n",
    "max(): Finds the maximum value in each column.\n",
    "\n",
    "abs(): Computes the absolute value of each element.\n",
    "\n",
    "prod(): Computes the product of the values in each column.\n",
    "\n",
    "cumsum(): Calculates the cumulative sum of the values in each column.\n",
    "\n",
    "cumprod(): Calculates the cumulative product of the values in each column.\n",
    "\n",
    "describe(): Provides descriptive statistics like count, mean, std, min, 25%, 50%, 75%, max.\n",
    "\n",
    "pct_change(): Calculates the percentage change between the current and a prior element.\n",
    "\n",
    "cov(): Computes the covariance matrix.\n",
    "\n",
    "corr(): Computes the correlation matrix.\n",
    "\n",
    "rank(): Computes the ranks of elements.\n",
    "\n",
    "var(): Calculates the variance of the values in each column.\n",
    "\n",
    "skew(): Computes the skewness (asymmetry) of the distribution of the values in each column.\n",
    "\n",
    "apply(): Applies a function along an axis of the DataFrame."
   ]
  },
  {
   "cell_type": "code",
   "execution_count": null,
   "id": "88d21c88-6412-417e-b5d9-cea1c8a5ad39",
   "metadata": {},
   "outputs": [],
   "source": []
  },
  {
   "cell_type": "code",
   "execution_count": 53,
   "id": "aa6baa9e-9225-4ba2-91d0-e5dbf3aae134",
   "metadata": {},
   "outputs": [],
   "source": [
    "import pandas as pd\n",
    "import numpy as np\n",
    "\n",
    "# Creating a DataFrame\n",
    "data = {\n",
    "    'A': [10, 20, 30, 40, 50],\n",
    "    'B': [5, 15, 25, None, 45],\n",
    "    'C': [1, 2, 3, 4, 5]\n",
    "}\n",
    "\n",
    "df = pd.DataFrame(data)"
   ]
  },
  {
   "cell_type": "code",
   "execution_count": null,
   "id": "715d09fb-8d0d-4e82-9e3d-4b5b052fb856",
   "metadata": {},
   "outputs": [],
   "source": []
  },
  {
   "cell_type": "code",
   "execution_count": 54,
   "id": "5c4eeeb7-742a-4dc2-9f67-53f1abf51587",
   "metadata": {},
   "outputs": [
    {
     "name": "stdout",
     "output_type": "stream",
     "text": [
      "DataFrame:\n"
     ]
    },
    {
     "data": {
      "text/html": [
       "<div>\n",
       "<style scoped>\n",
       "    .dataframe tbody tr th:only-of-type {\n",
       "        vertical-align: middle;\n",
       "    }\n",
       "\n",
       "    .dataframe tbody tr th {\n",
       "        vertical-align: top;\n",
       "    }\n",
       "\n",
       "    .dataframe thead th {\n",
       "        text-align: right;\n",
       "    }\n",
       "</style>\n",
       "<table border=\"1\" class=\"dataframe\">\n",
       "  <thead>\n",
       "    <tr style=\"text-align: right;\">\n",
       "      <th></th>\n",
       "      <th>A</th>\n",
       "      <th>B</th>\n",
       "      <th>C</th>\n",
       "    </tr>\n",
       "  </thead>\n",
       "  <tbody>\n",
       "    <tr>\n",
       "      <th>0</th>\n",
       "      <td>10</td>\n",
       "      <td>5.0</td>\n",
       "      <td>1</td>\n",
       "    </tr>\n",
       "    <tr>\n",
       "      <th>1</th>\n",
       "      <td>20</td>\n",
       "      <td>15.0</td>\n",
       "      <td>2</td>\n",
       "    </tr>\n",
       "    <tr>\n",
       "      <th>2</th>\n",
       "      <td>30</td>\n",
       "      <td>25.0</td>\n",
       "      <td>3</td>\n",
       "    </tr>\n",
       "    <tr>\n",
       "      <th>3</th>\n",
       "      <td>40</td>\n",
       "      <td>NaN</td>\n",
       "      <td>4</td>\n",
       "    </tr>\n",
       "    <tr>\n",
       "      <th>4</th>\n",
       "      <td>50</td>\n",
       "      <td>45.0</td>\n",
       "      <td>5</td>\n",
       "    </tr>\n",
       "  </tbody>\n",
       "</table>\n",
       "</div>"
      ],
      "text/plain": [
       "    A     B  C\n",
       "0  10   5.0  1\n",
       "1  20  15.0  2\n",
       "2  30  25.0  3\n",
       "3  40   NaN  4\n",
       "4  50  45.0  5"
      ]
     },
     "execution_count": 54,
     "metadata": {},
     "output_type": "execute_result"
    }
   ],
   "source": [
    "# Displaying the DataFrame\n",
    "print(\"DataFrame:\")\n",
    "df"
   ]
  },
  {
   "cell_type": "code",
   "execution_count": null,
   "id": "3ce432d5-31bc-44de-aaf1-b72c8967ca42",
   "metadata": {},
   "outputs": [],
   "source": []
  },
  {
   "cell_type": "code",
   "execution_count": 58,
   "id": "38bc07cc-9692-49a1-9fa8-44f6e6eb47cd",
   "metadata": {},
   "outputs": [
    {
     "name": "stdout",
     "output_type": "stream",
     "text": [
      "\n",
      "Count:\n"
     ]
    },
    {
     "data": {
      "text/html": [
       "<div>\n",
       "<style scoped>\n",
       "    .dataframe tbody tr th:only-of-type {\n",
       "        vertical-align: middle;\n",
       "    }\n",
       "\n",
       "    .dataframe tbody tr th {\n",
       "        vertical-align: top;\n",
       "    }\n",
       "\n",
       "    .dataframe thead th {\n",
       "        text-align: right;\n",
       "    }\n",
       "</style>\n",
       "<table border=\"1\" class=\"dataframe\">\n",
       "  <thead>\n",
       "    <tr style=\"text-align: right;\">\n",
       "      <th></th>\n",
       "      <th>0</th>\n",
       "    </tr>\n",
       "  </thead>\n",
       "  <tbody>\n",
       "    <tr>\n",
       "      <th>A</th>\n",
       "      <td>5</td>\n",
       "    </tr>\n",
       "    <tr>\n",
       "      <th>B</th>\n",
       "      <td>4</td>\n",
       "    </tr>\n",
       "    <tr>\n",
       "      <th>C</th>\n",
       "      <td>5</td>\n",
       "    </tr>\n",
       "  </tbody>\n",
       "</table>\n",
       "</div>"
      ],
      "text/plain": [
       "   0\n",
       "A  5\n",
       "B  4\n",
       "C  5"
      ]
     },
     "execution_count": 58,
     "metadata": {},
     "output_type": "execute_result"
    }
   ],
   "source": [
    "# Count of non-NA/null entries\n",
    "print(\"\\nCount:\")\n",
    "df.count().to_frame()"
   ]
  },
  {
   "cell_type": "code",
   "execution_count": null,
   "id": "fbcffa7b-cce0-46c8-bf48-66916cefbd82",
   "metadata": {},
   "outputs": [],
   "source": []
  },
  {
   "cell_type": "code",
   "execution_count": 59,
   "id": "fff1d6c4-35e6-44c1-98f7-085f61d8fe1f",
   "metadata": {},
   "outputs": [
    {
     "name": "stdout",
     "output_type": "stream",
     "text": [
      "\n",
      "Sum:\n",
      "A    150.0\n",
      "B     90.0\n",
      "C     15.0\n",
      "dtype: float64\n"
     ]
    }
   ],
   "source": [
    "# Sum of values\n",
    "print(\"\\nSum:\")\n",
    "df.sum()"
   ]
  },
  {
   "cell_type": "code",
   "execution_count": null,
   "id": "18a68c5c-595f-417f-abfe-c4a9be8d4c7f",
   "metadata": {},
   "outputs": [],
   "source": []
  },
  {
   "cell_type": "code",
   "execution_count": 61,
   "id": "5b08174b-6a48-4769-b8c7-16b34fac0300",
   "metadata": {},
   "outputs": [
    {
     "name": "stdout",
     "output_type": "stream",
     "text": [
      "\n",
      "Mean:\n"
     ]
    },
    {
     "data": {
      "text/plain": [
       "A    30.0\n",
       "B    22.5\n",
       "C     3.0\n",
       "dtype: float64"
      ]
     },
     "execution_count": 61,
     "metadata": {},
     "output_type": "execute_result"
    }
   ],
   "source": [
    "# Mean of values\n",
    "print(\"\\nMean:\")\n",
    "df.mean()"
   ]
  },
  {
   "cell_type": "code",
   "execution_count": null,
   "id": "7a0031a7-8f36-43f2-997a-8f9ca5a2b933",
   "metadata": {},
   "outputs": [],
   "source": []
  },
  {
   "cell_type": "code",
   "execution_count": 62,
   "id": "669aa2a6-20a5-4161-8a45-57b89426de0f",
   "metadata": {},
   "outputs": [
    {
     "name": "stdout",
     "output_type": "stream",
     "text": [
      "\n",
      "Median:\n",
      "A    30.0\n",
      "B    20.0\n",
      "C     3.0\n",
      "dtype: float64\n"
     ]
    }
   ],
   "source": [
    "# Median of values\n",
    "print(\"\\nMedian:\")\n",
    "print(df.median())"
   ]
  },
  {
   "cell_type": "code",
   "execution_count": null,
   "id": "1311b1d8-ae41-4e20-a2d0-b16156ffbb8e",
   "metadata": {},
   "outputs": [],
   "source": []
  },
  {
   "cell_type": "code",
   "execution_count": 63,
   "id": "9b03aa7c-4e1c-469f-be65-77e3624a8252",
   "metadata": {},
   "outputs": [
    {
     "name": "stdout",
     "output_type": "stream",
     "text": [
      "\n",
      "Mode:\n",
      "    A     B  C\n",
      "0  10   5.0  1\n",
      "1  20  15.0  2\n",
      "2  30  25.0  3\n",
      "3  40  45.0  4\n",
      "4  50   NaN  5\n"
     ]
    }
   ],
   "source": [
    "# Mode of values\n",
    "print(\"\\nMode:\")\n",
    "print(df.mode())"
   ]
  },
  {
   "cell_type": "code",
   "execution_count": null,
   "id": "566c5069-87cd-4335-8a46-356761316138",
   "metadata": {},
   "outputs": [],
   "source": []
  },
  {
   "cell_type": "code",
   "execution_count": 64,
   "id": "374e7c4e-66aa-4979-bb64-de824f3b5568",
   "metadata": {},
   "outputs": [
    {
     "name": "stdout",
     "output_type": "stream",
     "text": [
      "\n",
      "Standard Deviation (std):\n",
      "A    15.811388\n",
      "B    17.078251\n",
      "C     1.581139\n",
      "dtype: float64\n"
     ]
    }
   ],
   "source": [
    "# Standard deviation\n",
    "print(\"\\nStandard Deviation (std):\")\n",
    "print(df.std())"
   ]
  },
  {
   "cell_type": "code",
   "execution_count": null,
   "id": "0ea997c5-b63b-454a-9b4f-ec7cedac3502",
   "metadata": {},
   "outputs": [],
   "source": []
  },
  {
   "cell_type": "code",
   "execution_count": 65,
   "id": "c4c2c87a-53ad-42b3-b9ca-ccf4dd6e2a11",
   "metadata": {},
   "outputs": [
    {
     "name": "stdout",
     "output_type": "stream",
     "text": [
      "\n",
      "Minimum Value (min):\n",
      "A    10.0\n",
      "B     5.0\n",
      "C     1.0\n",
      "dtype: float64\n"
     ]
    }
   ],
   "source": [
    "# Minimum value\n",
    "print(\"\\nMinimum Value (min):\")\n",
    "print(df.min())"
   ]
  },
  {
   "cell_type": "code",
   "execution_count": null,
   "id": "fd18dc32-7931-4563-9a96-25e39760573b",
   "metadata": {},
   "outputs": [],
   "source": []
  },
  {
   "cell_type": "code",
   "execution_count": 66,
   "id": "0ebd9bbf-2fd2-4c6d-84a2-225235aa0b21",
   "metadata": {},
   "outputs": [
    {
     "name": "stdout",
     "output_type": "stream",
     "text": [
      "\n",
      "Maximum Value (max):\n",
      "A    50.0\n",
      "B    45.0\n",
      "C     5.0\n",
      "dtype: float64\n"
     ]
    }
   ],
   "source": [
    "# Maximum value\n",
    "print(\"\\nMaximum Value (max):\")\n",
    "print(df.max())"
   ]
  },
  {
   "cell_type": "code",
   "execution_count": null,
   "id": "a00d8515-824f-4ded-9d33-4ffa8000caec",
   "metadata": {},
   "outputs": [],
   "source": []
  },
  {
   "cell_type": "code",
   "execution_count": 67,
   "id": "aafa9669-ca37-4ebb-888e-b552fef5270d",
   "metadata": {},
   "outputs": [
    {
     "name": "stdout",
     "output_type": "stream",
     "text": [
      "\n",
      "Absolute Value (abs):\n",
      "    A     B  C\n",
      "0  10   5.0  1\n",
      "1  20  15.0  2\n",
      "2  30  25.0  3\n",
      "3  40   NaN  4\n",
      "4  50  45.0  5\n"
     ]
    }
   ],
   "source": [
    "# Absolute value\n",
    "print(\"\\nAbsolute Value (abs):\")\n",
    "print(df.abs())"
   ]
  },
  {
   "cell_type": "code",
   "execution_count": null,
   "id": "8b9ca0d4-7e38-409d-82d9-3345fd0fd63d",
   "metadata": {},
   "outputs": [],
   "source": []
  },
  {
   "cell_type": "code",
   "execution_count": 68,
   "id": "a98de029-3ba5-45d1-b42c-91bf40b9a2ca",
   "metadata": {},
   "outputs": [
    {
     "name": "stdout",
     "output_type": "stream",
     "text": [
      "\n",
      "Product (prod):\n",
      "A    12000000.0\n",
      "B       84375.0\n",
      "C         120.0\n",
      "dtype: float64\n"
     ]
    }
   ],
   "source": [
    "# Product of values\n",
    "print(\"\\nProduct (prod):\")\n",
    "print(df.prod())"
   ]
  },
  {
   "cell_type": "code",
   "execution_count": null,
   "id": "5bce3a58-56b8-4ab2-9d95-4b0aa1ec879f",
   "metadata": {},
   "outputs": [],
   "source": []
  },
  {
   "cell_type": "code",
   "execution_count": 69,
   "id": "f5497f12-aa71-4e6f-9775-f8ff0076684d",
   "metadata": {},
   "outputs": [
    {
     "name": "stdout",
     "output_type": "stream",
     "text": [
      "\n",
      "Cumulative Sum (cumsum):\n",
      "     A     B   C\n",
      "0   10   5.0   1\n",
      "1   30  20.0   3\n",
      "2   60  45.0   6\n",
      "3  100   NaN  10\n",
      "4  150  90.0  15\n"
     ]
    }
   ],
   "source": [
    "# Cumulative sum\n",
    "print(\"\\nCumulative Sum (cumsum):\")\n",
    "print(df.cumsum())"
   ]
  },
  {
   "cell_type": "code",
   "execution_count": null,
   "id": "b35e299a-882f-4e88-8676-c6c352086dea",
   "metadata": {},
   "outputs": [],
   "source": []
  },
  {
   "cell_type": "code",
   "execution_count": 70,
   "id": "ccc2b7e3-2929-408a-b60c-5364c9d8f2e4",
   "metadata": {},
   "outputs": [
    {
     "name": "stdout",
     "output_type": "stream",
     "text": [
      "\n",
      "Cumulative Product (cumprod):\n",
      "          A        B    C\n",
      "0        10      5.0    1\n",
      "1       200     75.0    2\n",
      "2      6000   1875.0    6\n",
      "3    240000      NaN   24\n",
      "4  12000000  84375.0  120\n"
     ]
    }
   ],
   "source": [
    "# Cumulative product\n",
    "print(\"\\nCumulative Product (cumprod):\")\n",
    "print(df.cumprod())"
   ]
  },
  {
   "cell_type": "code",
   "execution_count": null,
   "id": "b4df5bcc-1165-4c70-93a3-9f7b9902a9b4",
   "metadata": {},
   "outputs": [],
   "source": []
  },
  {
   "cell_type": "code",
   "execution_count": 72,
   "id": "dd6d6c30-f346-4259-b0b2-09d26b0510d2",
   "metadata": {},
   "outputs": [
    {
     "name": "stdout",
     "output_type": "stream",
     "text": [
      "\n",
      "Describe:\n"
     ]
    },
    {
     "data": {
      "text/html": [
       "<div>\n",
       "<style scoped>\n",
       "    .dataframe tbody tr th:only-of-type {\n",
       "        vertical-align: middle;\n",
       "    }\n",
       "\n",
       "    .dataframe tbody tr th {\n",
       "        vertical-align: top;\n",
       "    }\n",
       "\n",
       "    .dataframe thead th {\n",
       "        text-align: right;\n",
       "    }\n",
       "</style>\n",
       "<table border=\"1\" class=\"dataframe\">\n",
       "  <thead>\n",
       "    <tr style=\"text-align: right;\">\n",
       "      <th></th>\n",
       "      <th>A</th>\n",
       "      <th>B</th>\n",
       "      <th>C</th>\n",
       "    </tr>\n",
       "  </thead>\n",
       "  <tbody>\n",
       "    <tr>\n",
       "      <th>count</th>\n",
       "      <td>5.000000</td>\n",
       "      <td>4.000000</td>\n",
       "      <td>5.000000</td>\n",
       "    </tr>\n",
       "    <tr>\n",
       "      <th>mean</th>\n",
       "      <td>30.000000</td>\n",
       "      <td>22.500000</td>\n",
       "      <td>3.000000</td>\n",
       "    </tr>\n",
       "    <tr>\n",
       "      <th>std</th>\n",
       "      <td>15.811388</td>\n",
       "      <td>17.078251</td>\n",
       "      <td>1.581139</td>\n",
       "    </tr>\n",
       "    <tr>\n",
       "      <th>min</th>\n",
       "      <td>10.000000</td>\n",
       "      <td>5.000000</td>\n",
       "      <td>1.000000</td>\n",
       "    </tr>\n",
       "    <tr>\n",
       "      <th>25%</th>\n",
       "      <td>20.000000</td>\n",
       "      <td>12.500000</td>\n",
       "      <td>2.000000</td>\n",
       "    </tr>\n",
       "    <tr>\n",
       "      <th>50%</th>\n",
       "      <td>30.000000</td>\n",
       "      <td>20.000000</td>\n",
       "      <td>3.000000</td>\n",
       "    </tr>\n",
       "    <tr>\n",
       "      <th>75%</th>\n",
       "      <td>40.000000</td>\n",
       "      <td>30.000000</td>\n",
       "      <td>4.000000</td>\n",
       "    </tr>\n",
       "    <tr>\n",
       "      <th>max</th>\n",
       "      <td>50.000000</td>\n",
       "      <td>45.000000</td>\n",
       "      <td>5.000000</td>\n",
       "    </tr>\n",
       "  </tbody>\n",
       "</table>\n",
       "</div>"
      ],
      "text/plain": [
       "               A          B         C\n",
       "count   5.000000   4.000000  5.000000\n",
       "mean   30.000000  22.500000  3.000000\n",
       "std    15.811388  17.078251  1.581139\n",
       "min    10.000000   5.000000  1.000000\n",
       "25%    20.000000  12.500000  2.000000\n",
       "50%    30.000000  20.000000  3.000000\n",
       "75%    40.000000  30.000000  4.000000\n",
       "max    50.000000  45.000000  5.000000"
      ]
     },
     "execution_count": 72,
     "metadata": {},
     "output_type": "execute_result"
    }
   ],
   "source": [
    "# Descriptive statistics\n",
    "print(\"\\nDescribe:\")\n",
    "df.describe()"
   ]
  },
  {
   "cell_type": "code",
   "execution_count": null,
   "id": "6fb99ee5-db03-4e5d-aa3b-d3454f571972",
   "metadata": {},
   "outputs": [],
   "source": []
  },
  {
   "cell_type": "code",
   "execution_count": 73,
   "id": "4b9063e6-d44d-410d-8cc8-0a57a29136c0",
   "metadata": {},
   "outputs": [
    {
     "name": "stdout",
     "output_type": "stream",
     "text": [
      "\n",
      "Percentage Change (pct_change):\n",
      "          A         B         C\n",
      "0       NaN       NaN       NaN\n",
      "1  1.000000  2.000000  1.000000\n",
      "2  0.500000  0.666667  0.500000\n",
      "3  0.333333  0.000000  0.333333\n",
      "4  0.250000  0.800000  0.250000\n"
     ]
    }
   ],
   "source": [
    "# Percentage change\n",
    "print(\"\\nPercentage Change (pct_change):\")\n",
    "print(df.pct_change())"
   ]
  },
  {
   "cell_type": "markdown",
   "id": "5c687f76-b8f0-484d-9abd-798d447f29e0",
   "metadata": {},
   "source": [
    "df.pct_change() calculates the percentage change from the previous row."
   ]
  },
  {
   "cell_type": "code",
   "execution_count": null,
   "id": "0fbe8aa3-69b3-4faa-947a-511cca5626e7",
   "metadata": {},
   "outputs": [],
   "source": []
  },
  {
   "cell_type": "code",
   "execution_count": 75,
   "id": "ad56f54f-517d-40bf-abee-4ebdd14d94ab",
   "metadata": {},
   "outputs": [
    {
     "name": "stdout",
     "output_type": "stream",
     "text": [
      "\n",
      "Correlation Matrix (corr):\n"
     ]
    },
    {
     "data": {
      "text/html": [
       "<div>\n",
       "<style scoped>\n",
       "    .dataframe tbody tr th:only-of-type {\n",
       "        vertical-align: middle;\n",
       "    }\n",
       "\n",
       "    .dataframe tbody tr th {\n",
       "        vertical-align: top;\n",
       "    }\n",
       "\n",
       "    .dataframe thead th {\n",
       "        text-align: right;\n",
       "    }\n",
       "</style>\n",
       "<table border=\"1\" class=\"dataframe\">\n",
       "  <thead>\n",
       "    <tr style=\"text-align: right;\">\n",
       "      <th></th>\n",
       "      <th>A</th>\n",
       "      <th>B</th>\n",
       "      <th>C</th>\n",
       "    </tr>\n",
       "  </thead>\n",
       "  <tbody>\n",
       "    <tr>\n",
       "      <th>A</th>\n",
       "      <td>1.0</td>\n",
       "      <td>1.0</td>\n",
       "      <td>1.0</td>\n",
       "    </tr>\n",
       "    <tr>\n",
       "      <th>B</th>\n",
       "      <td>1.0</td>\n",
       "      <td>1.0</td>\n",
       "      <td>1.0</td>\n",
       "    </tr>\n",
       "    <tr>\n",
       "      <th>C</th>\n",
       "      <td>1.0</td>\n",
       "      <td>1.0</td>\n",
       "      <td>1.0</td>\n",
       "    </tr>\n",
       "  </tbody>\n",
       "</table>\n",
       "</div>"
      ],
      "text/plain": [
       "     A    B    C\n",
       "A  1.0  1.0  1.0\n",
       "B  1.0  1.0  1.0\n",
       "C  1.0  1.0  1.0"
      ]
     },
     "execution_count": 75,
     "metadata": {},
     "output_type": "execute_result"
    }
   ],
   "source": [
    "# Correlation matrix\n",
    "print(\"\\nCorrelation Matrix (corr):\")\n",
    "df.corr()"
   ]
  },
  {
   "cell_type": "code",
   "execution_count": null,
   "id": "d4676aab-feef-42ea-ac5d-698d3303a978",
   "metadata": {},
   "outputs": [],
   "source": []
  },
  {
   "cell_type": "code",
   "execution_count": 77,
   "id": "d6d56e55-29a5-4f6f-855b-6f6818d466bf",
   "metadata": {},
   "outputs": [
    {
     "name": "stdout",
     "output_type": "stream",
     "text": [
      "\n",
      "Rank:\n"
     ]
    },
    {
     "data": {
      "text/html": [
       "<div>\n",
       "<style scoped>\n",
       "    .dataframe tbody tr th:only-of-type {\n",
       "        vertical-align: middle;\n",
       "    }\n",
       "\n",
       "    .dataframe tbody tr th {\n",
       "        vertical-align: top;\n",
       "    }\n",
       "\n",
       "    .dataframe thead th {\n",
       "        text-align: right;\n",
       "    }\n",
       "</style>\n",
       "<table border=\"1\" class=\"dataframe\">\n",
       "  <thead>\n",
       "    <tr style=\"text-align: right;\">\n",
       "      <th></th>\n",
       "      <th>A</th>\n",
       "      <th>B</th>\n",
       "      <th>C</th>\n",
       "    </tr>\n",
       "  </thead>\n",
       "  <tbody>\n",
       "    <tr>\n",
       "      <th>0</th>\n",
       "      <td>1.0</td>\n",
       "      <td>1.0</td>\n",
       "      <td>1.0</td>\n",
       "    </tr>\n",
       "    <tr>\n",
       "      <th>1</th>\n",
       "      <td>2.0</td>\n",
       "      <td>2.0</td>\n",
       "      <td>2.0</td>\n",
       "    </tr>\n",
       "    <tr>\n",
       "      <th>2</th>\n",
       "      <td>3.0</td>\n",
       "      <td>3.0</td>\n",
       "      <td>3.0</td>\n",
       "    </tr>\n",
       "    <tr>\n",
       "      <th>3</th>\n",
       "      <td>4.0</td>\n",
       "      <td>NaN</td>\n",
       "      <td>4.0</td>\n",
       "    </tr>\n",
       "    <tr>\n",
       "      <th>4</th>\n",
       "      <td>5.0</td>\n",
       "      <td>4.0</td>\n",
       "      <td>5.0</td>\n",
       "    </tr>\n",
       "  </tbody>\n",
       "</table>\n",
       "</div>"
      ],
      "text/plain": [
       "     A    B    C\n",
       "0  1.0  1.0  1.0\n",
       "1  2.0  2.0  2.0\n",
       "2  3.0  3.0  3.0\n",
       "3  4.0  NaN  4.0\n",
       "4  5.0  4.0  5.0"
      ]
     },
     "execution_count": 77,
     "metadata": {},
     "output_type": "execute_result"
    }
   ],
   "source": [
    "# Rank of elements\n",
    "print(\"\\nRank:\")\n",
    "df.rank()"
   ]
  },
  {
   "cell_type": "markdown",
   "id": "b106cf0f-1d29-4262-bc87-a2043fe8b1ae",
   "metadata": {},
   "source": [
    "rank():\n",
    "df.rank() returns the ranks of elements in each column."
   ]
  },
  {
   "cell_type": "code",
   "execution_count": null,
   "id": "15ffc466-6bf2-483e-a740-d0e9f209ae08",
   "metadata": {},
   "outputs": [],
   "source": []
  },
  {
   "cell_type": "code",
   "execution_count": 79,
   "id": "6521cd9e-d60e-420a-b762-c8126613a6c3",
   "metadata": {},
   "outputs": [
    {
     "name": "stdout",
     "output_type": "stream",
     "text": [
      "\n",
      "Variance (var):\n"
     ]
    },
    {
     "data": {
      "text/plain": [
       "A    250.000000\n",
       "B    291.666667\n",
       "C      2.500000\n",
       "dtype: float64"
      ]
     },
     "execution_count": 79,
     "metadata": {},
     "output_type": "execute_result"
    }
   ],
   "source": [
    "# Variance of values\n",
    "print(\"\\nVariance (var):\")\n",
    "df.var()"
   ]
  },
  {
   "cell_type": "code",
   "execution_count": null,
   "id": "96c26c87-e930-43e9-b3ca-d83caa174018",
   "metadata": {},
   "outputs": [],
   "source": []
  },
  {
   "cell_type": "markdown",
   "id": "864dc6a5-0ca2-4023-b0e5-d8a676cf2656",
   "metadata": {},
   "source": [
    "\n",
    "The value \"skew()\" in Python (specifically in Pandas DataFrame) is used to measure the skewness of a data distribution.\n",
    "\n",
    "Skewness is a statistical measure that indicates the level of asymmetry in a data distribution compared to a normal distribution.\n",
    "\n",
    "Skewness > 0: The distribution has positive skewness, meaning the distribution tail extends to the right. This indicates that there are more values smaller than the mean compared to values larger than the mean.\n",
    "\n",
    "Skewness < 0: The distribution has negative skewness, meaning the distribution tail extends to the left. This indicates that there are more values larger than the mean compared to values smaller than the mean.\n",
    "\n",
    "Skewness = 0: The distribution is symmetric, meaning the data is close to a normal distribution, with values evenly distributed around the mean.\n",
    "\n",
    "Therefore, when you run df.skew(), it will return a series of values, with each value corresponding to the skewness of a column in the DataFrame"
   ]
  },
  {
   "cell_type": "code",
   "execution_count": 80,
   "id": "77b14934-f8db-4207-9fa9-415630b3a729",
   "metadata": {},
   "outputs": [
    {
     "name": "stdout",
     "output_type": "stream",
     "text": [
      "\n",
      "Skewness (skew):\n",
      "A    0.000000\n",
      "B    0.752837\n",
      "C    0.000000\n",
      "dtype: float64\n"
     ]
    }
   ],
   "source": [
    "# Skewness\n",
    "print(\"\\nSkewness (skew):\")\n",
    "print(df.skew())"
   ]
  },
  {
   "cell_type": "markdown",
   "id": "18e3d093-e31a-4313-b432-5a5c34166929",
   "metadata": {},
   "source": [
    "skew():\n",
    "\n",
    "df.skew() returns the skewness, measuring the asymmetry of the distribution of values."
   ]
  },
  {
   "cell_type": "code",
   "execution_count": null,
   "id": "4f0239ae-42d8-4911-81d1-95d65a5bf16d",
   "metadata": {},
   "outputs": [],
   "source": []
  },
  {
   "cell_type": "code",
   "execution_count": null,
   "id": "8ef7524b-2573-4caa-bb69-456222f250d6",
   "metadata": {},
   "outputs": [],
   "source": []
  },
  {
   "cell_type": "markdown",
   "id": "e21a7539-74a8-434c-b116-c392076b1275",
   "metadata": {},
   "source": [
    "rank(): df.rank() returns the ranks of elements in each column."
   ]
  },
  {
   "cell_type": "markdown",
   "id": "0db4264f-6e80-440c-a18c-d35dcc020b62",
   "metadata": {},
   "source": [
    "The expression rank() in df.rank() is used in Pandas to assign ranks to the elements in each column of a DataFrame. Ranking means ordering the values in a column from smallest to largest and then assigning them a rank based on their position in this order.\n",
    "\n",
    "Key Points:\n",
    "Rank Calculation: The rank is assigned to each element according to its value relative to the other values in the column. The smallest value gets rank 1, the next smallest gets rank 2, and so on.\n",
    "\n",
    "Handling Ties: When multiple elements have the same value (a tie), Pandas has different methods to assign ranks:\n",
    "\n",
    "Average Method (default): Assigns the average rank to all tied values. For example, if two values are tied for 2nd place, they both get rank 2.5.\n",
    "Min Method: Assigns the smallest rank to all tied values. For example, if two values are tied for 2nd place, they both get rank 2.\n",
    "Max Method: Assigns the largest rank to all tied values. For example, if two values are tied for 2nd place, they both get rank 3.\n",
    "First Method: Assigns ranks in the order they appear in the data.\n",
    "Parameters:\n",
    "\n",
    "axis: By default, df.rank() operates column-wise (axis=0). You can set axis=1 to rank row-wise.\n",
    "method: Specifies how to handle ties (e.g., 'average', 'min', 'max', 'first', 'dense').\n",
    "ascending: If True (default), ranks are assigned in ascending order. If False, ranks are assigned in descending order."
   ]
  },
  {
   "cell_type": "code",
   "execution_count": null,
   "id": "855691ed-9bab-4966-9189-9d344ffc82ba",
   "metadata": {},
   "outputs": [],
   "source": []
  },
  {
   "cell_type": "code",
   "execution_count": 81,
   "id": "08df4969-a243-41e6-b061-a3d8c5981b98",
   "metadata": {},
   "outputs": [],
   "source": [
    "import pandas as pd\n",
    "\n",
    "df = pd.DataFrame({\n",
    "    'A': [10, 20, 10, 40],\n",
    "    'B': [30, 20, 30, 10]\n",
    "})\n"
   ]
  },
  {
   "cell_type": "code",
   "execution_count": null,
   "id": "d2fd2ca3-7997-4a9d-9cfb-1c99790f91d9",
   "metadata": {},
   "outputs": [],
   "source": []
  },
  {
   "cell_type": "code",
   "execution_count": 82,
   "id": "0199bdfa-a6c0-4fc4-9ddb-f54890266693",
   "metadata": {},
   "outputs": [
    {
     "data": {
      "text/html": [
       "<div>\n",
       "<style scoped>\n",
       "    .dataframe tbody tr th:only-of-type {\n",
       "        vertical-align: middle;\n",
       "    }\n",
       "\n",
       "    .dataframe tbody tr th {\n",
       "        vertical-align: top;\n",
       "    }\n",
       "\n",
       "    .dataframe thead th {\n",
       "        text-align: right;\n",
       "    }\n",
       "</style>\n",
       "<table border=\"1\" class=\"dataframe\">\n",
       "  <thead>\n",
       "    <tr style=\"text-align: right;\">\n",
       "      <th></th>\n",
       "      <th>A</th>\n",
       "      <th>B</th>\n",
       "    </tr>\n",
       "  </thead>\n",
       "  <tbody>\n",
       "    <tr>\n",
       "      <th>0</th>\n",
       "      <td>10</td>\n",
       "      <td>30</td>\n",
       "    </tr>\n",
       "    <tr>\n",
       "      <th>1</th>\n",
       "      <td>20</td>\n",
       "      <td>20</td>\n",
       "    </tr>\n",
       "    <tr>\n",
       "      <th>2</th>\n",
       "      <td>10</td>\n",
       "      <td>30</td>\n",
       "    </tr>\n",
       "    <tr>\n",
       "      <th>3</th>\n",
       "      <td>40</td>\n",
       "      <td>10</td>\n",
       "    </tr>\n",
       "  </tbody>\n",
       "</table>\n",
       "</div>"
      ],
      "text/plain": [
       "    A   B\n",
       "0  10  30\n",
       "1  20  20\n",
       "2  10  30\n",
       "3  40  10"
      ]
     },
     "execution_count": 82,
     "metadata": {},
     "output_type": "execute_result"
    }
   ],
   "source": [
    "df"
   ]
  },
  {
   "cell_type": "code",
   "execution_count": null,
   "id": "350f1dd7-4bae-4234-a16c-43f53a643659",
   "metadata": {},
   "outputs": [],
   "source": []
  },
  {
   "cell_type": "code",
   "execution_count": 83,
   "id": "a00d2e80-15c9-48d0-be61-8c3f58d67ac1",
   "metadata": {},
   "outputs": [
    {
     "data": {
      "text/html": [
       "<div>\n",
       "<style scoped>\n",
       "    .dataframe tbody tr th:only-of-type {\n",
       "        vertical-align: middle;\n",
       "    }\n",
       "\n",
       "    .dataframe tbody tr th {\n",
       "        vertical-align: top;\n",
       "    }\n",
       "\n",
       "    .dataframe thead th {\n",
       "        text-align: right;\n",
       "    }\n",
       "</style>\n",
       "<table border=\"1\" class=\"dataframe\">\n",
       "  <thead>\n",
       "    <tr style=\"text-align: right;\">\n",
       "      <th></th>\n",
       "      <th>A</th>\n",
       "      <th>B</th>\n",
       "    </tr>\n",
       "  </thead>\n",
       "  <tbody>\n",
       "    <tr>\n",
       "      <th>0</th>\n",
       "      <td>1.5</td>\n",
       "      <td>3.5</td>\n",
       "    </tr>\n",
       "    <tr>\n",
       "      <th>1</th>\n",
       "      <td>3.0</td>\n",
       "      <td>2.0</td>\n",
       "    </tr>\n",
       "    <tr>\n",
       "      <th>2</th>\n",
       "      <td>1.5</td>\n",
       "      <td>3.5</td>\n",
       "    </tr>\n",
       "    <tr>\n",
       "      <th>3</th>\n",
       "      <td>4.0</td>\n",
       "      <td>1.0</td>\n",
       "    </tr>\n",
       "  </tbody>\n",
       "</table>\n",
       "</div>"
      ],
      "text/plain": [
       "     A    B\n",
       "0  1.5  3.5\n",
       "1  3.0  2.0\n",
       "2  1.5  3.5\n",
       "3  4.0  1.0"
      ]
     },
     "execution_count": 83,
     "metadata": {},
     "output_type": "execute_result"
    }
   ],
   "source": [
    "df.rank()"
   ]
  },
  {
   "cell_type": "markdown",
   "id": "2ed585bd-d1fc-4dde-b889-3479dd52a1c3",
   "metadata": {},
   "source": [
    "Explanation:\n",
    "\n",
    "- Column A:\n",
    "The value 10 appears twice, so both values get the average rank of 1.5.\n",
    "The value 20 gets rank 3.\n",
    "The value 40 gets rank 4.\n",
    "- Column B:\n",
    "The value 30 appears twice, so both values get the average rank of 3.0.\n",
    "The value 20 gets rank 2.\n",
    "The value 10 gets rank 1.\n",
    "- Summary:\n",
    "df.rank() provides an easy way to assign ranks to data based on the relative order of the values, and it allows customization on how to handle ties and rank direction."
   ]
  },
  {
   "cell_type": "code",
   "execution_count": null,
   "id": "29d4bcb0-c745-411a-9018-9e10b06dfe6c",
   "metadata": {},
   "outputs": [],
   "source": []
  },
  {
   "cell_type": "code",
   "execution_count": null,
   "id": "7d860d8c-6554-4818-b720-db9daaefce64",
   "metadata": {},
   "outputs": [],
   "source": []
  },
  {
   "cell_type": "markdown",
   "id": "9e7c2135-6f59-4700-929e-8a8a44e77947",
   "metadata": {},
   "source": [
    "# Apply function"
   ]
  },
  {
   "cell_type": "markdown",
   "id": "749f29d1-7c06-4a49-9015-27fd31a42082",
   "metadata": {},
   "source": [
    "The apply() function in Pandas is a powerful tool that allows you to apply a custom function to each element, row, or column of a DataFrame. This is highly flexible, as you can specify how the function should be applied across the DataFrame, either along rows, columns, or even to individual elements.\n",
    "\n",
    "Key Points:\n",
    "Function Application:\n",
    "df.apply() allows you to apply a function to each column (by default) or to each row. You can use built-in Python functions, NumPy functions, or custom functions (e.g., lambda functions).\n",
    "\n",
    "Axis Parameter:\n",
    "\n",
    "- axis=0 (default): The function is applied to each column. For example, it treats each column as a series and applies the function to each element in that column.\n",
    "- axis=1: The function is applied to each row. In this case, each row is treated as a series, and the function is applied to each element in that row.\n",
    "Custom Functions: You can pass any function (including lambda functions) to apply(). For example, you can create custom transformations, aggregations, or calculations on the data.\n",
    "\n",
    "Return Values: The function applied can return a single value (which can result in a new DataFrame or Series) or multiple values (which will expand into multiple columns or rows)."
   ]
  },
  {
   "cell_type": "code",
   "execution_count": null,
   "id": "5ca346a7-e48c-4388-8496-0c663f8d9f26",
   "metadata": {},
   "outputs": [],
   "source": []
  },
  {
   "cell_type": "code",
   "execution_count": 86,
   "id": "d3128925-6cd0-439d-b6a6-100896be2748",
   "metadata": {},
   "outputs": [],
   "source": [
    "import pandas as pd\n",
    "\n",
    "df = pd.DataFrame({\n",
    "    'A': [1, 2, 3],\n",
    "    'B': [4, 5, 6]\n",
    "})"
   ]
  },
  {
   "cell_type": "code",
   "execution_count": 87,
   "id": "83586ed5-8fa9-4123-9186-3e54e7e3c7a4",
   "metadata": {},
   "outputs": [
    {
     "data": {
      "text/html": [
       "<div>\n",
       "<style scoped>\n",
       "    .dataframe tbody tr th:only-of-type {\n",
       "        vertical-align: middle;\n",
       "    }\n",
       "\n",
       "    .dataframe tbody tr th {\n",
       "        vertical-align: top;\n",
       "    }\n",
       "\n",
       "    .dataframe thead th {\n",
       "        text-align: right;\n",
       "    }\n",
       "</style>\n",
       "<table border=\"1\" class=\"dataframe\">\n",
       "  <thead>\n",
       "    <tr style=\"text-align: right;\">\n",
       "      <th></th>\n",
       "      <th>A</th>\n",
       "      <th>B</th>\n",
       "    </tr>\n",
       "  </thead>\n",
       "  <tbody>\n",
       "    <tr>\n",
       "      <th>0</th>\n",
       "      <td>1</td>\n",
       "      <td>4</td>\n",
       "    </tr>\n",
       "    <tr>\n",
       "      <th>1</th>\n",
       "      <td>2</td>\n",
       "      <td>5</td>\n",
       "    </tr>\n",
       "    <tr>\n",
       "      <th>2</th>\n",
       "      <td>3</td>\n",
       "      <td>6</td>\n",
       "    </tr>\n",
       "  </tbody>\n",
       "</table>\n",
       "</div>"
      ],
      "text/plain": [
       "   A  B\n",
       "0  1  4\n",
       "1  2  5\n",
       "2  3  6"
      ]
     },
     "execution_count": 87,
     "metadata": {},
     "output_type": "execute_result"
    }
   ],
   "source": [
    "df"
   ]
  },
  {
   "cell_type": "code",
   "execution_count": null,
   "id": "d58313bd-4a81-4a7c-9b30-c251bbbe0ddc",
   "metadata": {},
   "outputs": [],
   "source": []
  },
  {
   "cell_type": "code",
   "execution_count": null,
   "id": "74d1bde8-14ca-4a49-b808-127d122dc212",
   "metadata": {},
   "outputs": [],
   "source": [
    "df_squared = df.apply(lambda x: x**2)"
   ]
  },
  {
   "cell_type": "code",
   "execution_count": 85,
   "id": "d6856edb-d28e-4698-bb92-294d9e995752",
   "metadata": {},
   "outputs": [
    {
     "data": {
      "text/html": [
       "<div>\n",
       "<style scoped>\n",
       "    .dataframe tbody tr th:only-of-type {\n",
       "        vertical-align: middle;\n",
       "    }\n",
       "\n",
       "    .dataframe tbody tr th {\n",
       "        vertical-align: top;\n",
       "    }\n",
       "\n",
       "    .dataframe thead th {\n",
       "        text-align: right;\n",
       "    }\n",
       "</style>\n",
       "<table border=\"1\" class=\"dataframe\">\n",
       "  <thead>\n",
       "    <tr style=\"text-align: right;\">\n",
       "      <th></th>\n",
       "      <th>A</th>\n",
       "      <th>B</th>\n",
       "    </tr>\n",
       "  </thead>\n",
       "  <tbody>\n",
       "    <tr>\n",
       "      <th>0</th>\n",
       "      <td>1</td>\n",
       "      <td>16</td>\n",
       "    </tr>\n",
       "    <tr>\n",
       "      <th>1</th>\n",
       "      <td>4</td>\n",
       "      <td>25</td>\n",
       "    </tr>\n",
       "    <tr>\n",
       "      <th>2</th>\n",
       "      <td>9</td>\n",
       "      <td>36</td>\n",
       "    </tr>\n",
       "  </tbody>\n",
       "</table>\n",
       "</div>"
      ],
      "text/plain": [
       "   A   B\n",
       "0  1  16\n",
       "1  4  25\n",
       "2  9  36"
      ]
     },
     "execution_count": 85,
     "metadata": {},
     "output_type": "execute_result"
    }
   ],
   "source": [
    "df_squared"
   ]
  },
  {
   "cell_type": "code",
   "execution_count": null,
   "id": "52da2678-6fc6-4291-8f3c-ccafa3100f94",
   "metadata": {},
   "outputs": [],
   "source": []
  },
  {
   "cell_type": "code",
   "execution_count": 88,
   "id": "a043ee9a-a9e0-45b6-a9ed-3af2e54bfbfd",
   "metadata": {},
   "outputs": [],
   "source": [
    "row_sum = df.apply(lambda x: x.sum(), axis = 1)"
   ]
  },
  {
   "cell_type": "code",
   "execution_count": 89,
   "id": "a7055041-7cfd-439b-9fbd-533670fa29e5",
   "metadata": {},
   "outputs": [
    {
     "data": {
      "text/plain": [
       "0    5\n",
       "1    7\n",
       "2    9\n",
       "dtype: int64"
      ]
     },
     "execution_count": 89,
     "metadata": {},
     "output_type": "execute_result"
    }
   ],
   "source": [
    "row_sum"
   ]
  },
  {
   "cell_type": "code",
   "execution_count": null,
   "id": "7008dc9f-3495-4652-88a1-680b469a33bf",
   "metadata": {},
   "outputs": [],
   "source": []
  },
  {
   "cell_type": "code",
   "execution_count": null,
   "id": "5efcd6fd-0dfc-47f4-8784-b7407a6f673c",
   "metadata": {},
   "outputs": [],
   "source": []
  },
  {
   "cell_type": "markdown",
   "id": "bc96ac1d-35f9-4f46-a6e6-b41ce2baab91",
   "metadata": {},
   "source": [
    "# • Functions to filter data: groupby(), get_group(), merge(), concat(), append(), melt(), pivot(), pivot_table()"
   ]
  },
  {
   "cell_type": "markdown",
   "id": "17a2386d-971a-4514-bede-40f9679c8496",
   "metadata": {},
   "source": [
    "1. groupby()\n",
    "- Description: The groupby() function is used to group data by one or more columns, allowing you to aggregate or perform operations on those groups."
   ]
  },
  {
   "cell_type": "code",
   "execution_count": null,
   "id": "c3b64f68-3400-4415-98a5-9a39f9e98bde",
   "metadata": {},
   "outputs": [],
   "source": []
  },
  {
   "cell_type": "code",
   "execution_count": 90,
   "id": "2eb12655-f2ad-4071-8842-dbc324140ef1",
   "metadata": {},
   "outputs": [
    {
     "data": {
      "text/html": [
       "<div>\n",
       "<style scoped>\n",
       "    .dataframe tbody tr th:only-of-type {\n",
       "        vertical-align: middle;\n",
       "    }\n",
       "\n",
       "    .dataframe tbody tr th {\n",
       "        vertical-align: top;\n",
       "    }\n",
       "\n",
       "    .dataframe thead th {\n",
       "        text-align: right;\n",
       "    }\n",
       "</style>\n",
       "<table border=\"1\" class=\"dataframe\">\n",
       "  <thead>\n",
       "    <tr style=\"text-align: right;\">\n",
       "      <th></th>\n",
       "      <th>Category</th>\n",
       "      <th>Values</th>\n",
       "    </tr>\n",
       "  </thead>\n",
       "  <tbody>\n",
       "    <tr>\n",
       "      <th>0</th>\n",
       "      <td>A</td>\n",
       "      <td>10</td>\n",
       "    </tr>\n",
       "    <tr>\n",
       "      <th>1</th>\n",
       "      <td>B</td>\n",
       "      <td>20</td>\n",
       "    </tr>\n",
       "    <tr>\n",
       "      <th>2</th>\n",
       "      <td>A</td>\n",
       "      <td>15</td>\n",
       "    </tr>\n",
       "    <tr>\n",
       "      <th>3</th>\n",
       "      <td>B</td>\n",
       "      <td>25</td>\n",
       "    </tr>\n",
       "    <tr>\n",
       "      <th>4</th>\n",
       "      <td>A</td>\n",
       "      <td>10</td>\n",
       "    </tr>\n",
       "    <tr>\n",
       "      <th>5</th>\n",
       "      <td>C</td>\n",
       "      <td>30</td>\n",
       "    </tr>\n",
       "  </tbody>\n",
       "</table>\n",
       "</div>"
      ],
      "text/plain": [
       "  Category  Values\n",
       "0        A      10\n",
       "1        B      20\n",
       "2        A      15\n",
       "3        B      25\n",
       "4        A      10\n",
       "5        C      30"
      ]
     },
     "execution_count": 90,
     "metadata": {},
     "output_type": "execute_result"
    }
   ],
   "source": [
    "import pandas as pd\n",
    "\n",
    "# Sample DataFrame\n",
    "data = {'Category': ['A', 'B', 'A', 'B', 'A', 'C'],\n",
    "        'Values': [10, 20, 15, 25, 10, 30]}\n",
    "df = pd.DataFrame(data)\n",
    "df"
   ]
  },
  {
   "cell_type": "code",
   "execution_count": null,
   "id": "6969d44b-1b5a-4b11-ab10-5bec8a6547f7",
   "metadata": {},
   "outputs": [],
   "source": []
  },
  {
   "cell_type": "code",
   "execution_count": 91,
   "id": "4ce2053d-2682-4c8d-9e22-d839523417ef",
   "metadata": {},
   "outputs": [
    {
     "data": {
      "text/html": [
       "<div>\n",
       "<style scoped>\n",
       "    .dataframe tbody tr th:only-of-type {\n",
       "        vertical-align: middle;\n",
       "    }\n",
       "\n",
       "    .dataframe tbody tr th {\n",
       "        vertical-align: top;\n",
       "    }\n",
       "\n",
       "    .dataframe thead th {\n",
       "        text-align: right;\n",
       "    }\n",
       "</style>\n",
       "<table border=\"1\" class=\"dataframe\">\n",
       "  <thead>\n",
       "    <tr style=\"text-align: right;\">\n",
       "      <th></th>\n",
       "      <th>Values</th>\n",
       "    </tr>\n",
       "    <tr>\n",
       "      <th>Category</th>\n",
       "      <th></th>\n",
       "    </tr>\n",
       "  </thead>\n",
       "  <tbody>\n",
       "    <tr>\n",
       "      <th>A</th>\n",
       "      <td>35</td>\n",
       "    </tr>\n",
       "    <tr>\n",
       "      <th>B</th>\n",
       "      <td>45</td>\n",
       "    </tr>\n",
       "    <tr>\n",
       "      <th>C</th>\n",
       "      <td>30</td>\n",
       "    </tr>\n",
       "  </tbody>\n",
       "</table>\n",
       "</div>"
      ],
      "text/plain": [
       "          Values\n",
       "Category        \n",
       "A             35\n",
       "B             45\n",
       "C             30"
      ]
     },
     "execution_count": 91,
     "metadata": {},
     "output_type": "execute_result"
    }
   ],
   "source": [
    "# Group by 'Category' column and calculate the sum of each group\n",
    "grouped = df.groupby('Category').sum()\n",
    "grouped"
   ]
  },
  {
   "cell_type": "code",
   "execution_count": null,
   "id": "f4e380cf-eceb-49a4-95f5-c3daf1e1d5a7",
   "metadata": {},
   "outputs": [],
   "source": []
  },
  {
   "cell_type": "code",
   "execution_count": 94,
   "id": "d4a0bfd8-0a38-4c01-b73b-d7015aed8ec8",
   "metadata": {},
   "outputs": [
    {
     "data": {
      "text/html": [
       "<div>\n",
       "<style scoped>\n",
       "    .dataframe tbody tr th:only-of-type {\n",
       "        vertical-align: middle;\n",
       "    }\n",
       "\n",
       "    .dataframe tbody tr th {\n",
       "        vertical-align: top;\n",
       "    }\n",
       "\n",
       "    .dataframe thead th {\n",
       "        text-align: right;\n",
       "    }\n",
       "</style>\n",
       "<table border=\"1\" class=\"dataframe\">\n",
       "  <thead>\n",
       "    <tr style=\"text-align: right;\">\n",
       "      <th></th>\n",
       "      <th>Values</th>\n",
       "    </tr>\n",
       "    <tr>\n",
       "      <th>Category</th>\n",
       "      <th></th>\n",
       "    </tr>\n",
       "  </thead>\n",
       "  <tbody>\n",
       "    <tr>\n",
       "      <th>A</th>\n",
       "      <td>35</td>\n",
       "    </tr>\n",
       "  </tbody>\n",
       "</table>\n",
       "</div>"
      ],
      "text/plain": [
       "          Values\n",
       "Category        \n",
       "A             35"
      ]
     },
     "execution_count": 94,
     "metadata": {},
     "output_type": "execute_result"
    }
   ],
   "source": [
    "grouped.loc[[\"A\"]]"
   ]
  },
  {
   "cell_type": "code",
   "execution_count": null,
   "id": "b6a33d9c-13d9-485e-a74d-9659b4e7e277",
   "metadata": {},
   "outputs": [],
   "source": []
  },
  {
   "cell_type": "markdown",
   "id": "55dd309c-bf1b-4343-97f1-3d2832a9c3c0",
   "metadata": {},
   "source": [
    "2. get_group()\n",
    "- Description: After using groupby(), you can retrieve a specific group with get_group()."
   ]
  },
  {
   "cell_type": "code",
   "execution_count": 97,
   "id": "754713c8-eaaf-42a0-a96f-8090c0a0edba",
   "metadata": {},
   "outputs": [
    {
     "name": "stdout",
     "output_type": "stream",
     "text": [
      "  Category  Values\n",
      "0        A      10\n",
      "2        A      15\n",
      "4        A      10\n"
     ]
    }
   ],
   "source": [
    "import pandas as pd\n",
    "\n",
    "# Sample DataFrame\n",
    "data = {'Category': ['A', 'B', 'A', 'B', 'A', 'C'],\n",
    "        'Values': [10, 20, 15, 25, 10, 30]}\n",
    "df = pd.DataFrame(data)\n",
    "\n",
    "# Group by 'Category'\n",
    "grouped = df.groupby('Category')\n",
    "\n",
    "# Get the group where 'Category' is 'A'\n",
    "group_A = grouped.get_group('A')\n",
    "print(group_A)"
   ]
  },
  {
   "cell_type": "code",
   "execution_count": null,
   "id": "28cbaa0f-b989-4f2f-a935-826935f67950",
   "metadata": {},
   "outputs": [],
   "source": []
  },
  {
   "cell_type": "code",
   "execution_count": null,
   "id": "0e51ff95-2e14-499d-8636-c2c084270323",
   "metadata": {},
   "outputs": [],
   "source": []
  },
  {
   "cell_type": "markdown",
   "id": "1aa70bdc-6cb1-4cda-95d3-8eabab972912",
   "metadata": {},
   "source": [
    "3. merge()\n",
    "- Description: The merge() function merges two DataFrames based on a common column. It is similar to SQL joins."
   ]
  },
  {
   "cell_type": "code",
   "execution_count": 98,
   "id": "ff6ab39d-3ba4-4b04-9df5-39ea3c259950",
   "metadata": {},
   "outputs": [],
   "source": [
    "# Sample DataFrames\n",
    "df1 = pd.DataFrame({'Key': ['A', 'B', 'C'], 'Value1': [1, 2, 3]})\n",
    "df2 = pd.DataFrame({'Key': ['A', 'B', 'D'], 'Value2': [4, 5, 6]})"
   ]
  },
  {
   "cell_type": "code",
   "execution_count": 99,
   "id": "b437aa57-75e7-4f4e-935c-730b53529baa",
   "metadata": {},
   "outputs": [
    {
     "data": {
      "text/html": [
       "<div>\n",
       "<style scoped>\n",
       "    .dataframe tbody tr th:only-of-type {\n",
       "        vertical-align: middle;\n",
       "    }\n",
       "\n",
       "    .dataframe tbody tr th {\n",
       "        vertical-align: top;\n",
       "    }\n",
       "\n",
       "    .dataframe thead th {\n",
       "        text-align: right;\n",
       "    }\n",
       "</style>\n",
       "<table border=\"1\" class=\"dataframe\">\n",
       "  <thead>\n",
       "    <tr style=\"text-align: right;\">\n",
       "      <th></th>\n",
       "      <th>Key</th>\n",
       "      <th>Value1</th>\n",
       "    </tr>\n",
       "  </thead>\n",
       "  <tbody>\n",
       "    <tr>\n",
       "      <th>0</th>\n",
       "      <td>A</td>\n",
       "      <td>1</td>\n",
       "    </tr>\n",
       "    <tr>\n",
       "      <th>1</th>\n",
       "      <td>B</td>\n",
       "      <td>2</td>\n",
       "    </tr>\n",
       "    <tr>\n",
       "      <th>2</th>\n",
       "      <td>C</td>\n",
       "      <td>3</td>\n",
       "    </tr>\n",
       "  </tbody>\n",
       "</table>\n",
       "</div>"
      ],
      "text/plain": [
       "  Key  Value1\n",
       "0   A       1\n",
       "1   B       2\n",
       "2   C       3"
      ]
     },
     "execution_count": 99,
     "metadata": {},
     "output_type": "execute_result"
    }
   ],
   "source": [
    "df1"
   ]
  },
  {
   "cell_type": "code",
   "execution_count": 100,
   "id": "b2b3121c-647e-4a29-8d69-9be0b6627452",
   "metadata": {},
   "outputs": [
    {
     "data": {
      "text/html": [
       "<div>\n",
       "<style scoped>\n",
       "    .dataframe tbody tr th:only-of-type {\n",
       "        vertical-align: middle;\n",
       "    }\n",
       "\n",
       "    .dataframe tbody tr th {\n",
       "        vertical-align: top;\n",
       "    }\n",
       "\n",
       "    .dataframe thead th {\n",
       "        text-align: right;\n",
       "    }\n",
       "</style>\n",
       "<table border=\"1\" class=\"dataframe\">\n",
       "  <thead>\n",
       "    <tr style=\"text-align: right;\">\n",
       "      <th></th>\n",
       "      <th>Key</th>\n",
       "      <th>Value2</th>\n",
       "    </tr>\n",
       "  </thead>\n",
       "  <tbody>\n",
       "    <tr>\n",
       "      <th>0</th>\n",
       "      <td>A</td>\n",
       "      <td>4</td>\n",
       "    </tr>\n",
       "    <tr>\n",
       "      <th>1</th>\n",
       "      <td>B</td>\n",
       "      <td>5</td>\n",
       "    </tr>\n",
       "    <tr>\n",
       "      <th>2</th>\n",
       "      <td>D</td>\n",
       "      <td>6</td>\n",
       "    </tr>\n",
       "  </tbody>\n",
       "</table>\n",
       "</div>"
      ],
      "text/plain": [
       "  Key  Value2\n",
       "0   A       4\n",
       "1   B       5\n",
       "2   D       6"
      ]
     },
     "execution_count": 100,
     "metadata": {},
     "output_type": "execute_result"
    }
   ],
   "source": [
    "df2"
   ]
  },
  {
   "cell_type": "code",
   "execution_count": null,
   "id": "e26dedb0-b3dc-414f-a600-a212879bc29b",
   "metadata": {},
   "outputs": [],
   "source": []
  },
  {
   "cell_type": "code",
   "execution_count": 101,
   "id": "88d86dc3-8a11-4fe6-866c-38031bcbb9ed",
   "metadata": {},
   "outputs": [
    {
     "name": "stdout",
     "output_type": "stream",
     "text": [
      "  Key  Value1  Value2\n",
      "0   A       1       4\n",
      "1   B       2       5\n"
     ]
    }
   ],
   "source": [
    "# Merge on the 'Key' column\n",
    "merged_df = pd.merge(df1, df2, on='Key', how='inner')\n",
    "print(merged_df)"
   ]
  },
  {
   "cell_type": "code",
   "execution_count": null,
   "id": "e83d0da5-c09c-4370-9ef0-83bd110597fc",
   "metadata": {},
   "outputs": [],
   "source": []
  },
  {
   "cell_type": "code",
   "execution_count": 102,
   "id": "aeb37f66-3e43-469d-881b-216488c6c123",
   "metadata": {},
   "outputs": [
    {
     "name": "stdout",
     "output_type": "stream",
     "text": [
      "  Key  Value1  Value2\n",
      "0   A       1     4.0\n",
      "1   B       2     5.0\n",
      "2   C       3     NaN\n"
     ]
    }
   ],
   "source": [
    "# Merge on the 'Key' column\n",
    "merged_df = pd.merge(df1, df2, on='Key', how='left')\n",
    "print(merged_df)"
   ]
  },
  {
   "cell_type": "code",
   "execution_count": null,
   "id": "01029217-3e74-4e16-b518-47195f3cef46",
   "metadata": {},
   "outputs": [],
   "source": []
  },
  {
   "cell_type": "code",
   "execution_count": null,
   "id": "3f8aa89c-6730-4cc8-bb02-b1426684846b",
   "metadata": {},
   "outputs": [],
   "source": []
  },
  {
   "cell_type": "markdown",
   "id": "a0ecae08-6791-4b8a-9450-bbd9831f3550",
   "metadata": {},
   "source": [
    "4. concat()\n",
    "- Description: The concat() function concatenates (joins) two or more DataFrames either along rows (axis=0) or columns (axis=1)."
   ]
  },
  {
   "cell_type": "code",
   "execution_count": 103,
   "id": "c8f76c6f-ad06-404d-8d0b-da9b2cc65968",
   "metadata": {},
   "outputs": [
    {
     "name": "stdout",
     "output_type": "stream",
     "text": [
      "  Key  Value1  Value2\n",
      "0   A     1.0     NaN\n",
      "1   B     2.0     NaN\n",
      "2   C     3.0     NaN\n",
      "0   A     NaN     4.0\n",
      "1   B     NaN     5.0\n",
      "2   D     NaN     6.0\n"
     ]
    }
   ],
   "source": [
    "# Concatenate along rows (axis=0)\n",
    "concatenated_df = pd.concat([df1, df2], axis=0)\n",
    "print(concatenated_df)"
   ]
  },
  {
   "cell_type": "code",
   "execution_count": null,
   "id": "7e179045-22bd-47b4-844c-41dcc2639205",
   "metadata": {},
   "outputs": [],
   "source": []
  },
  {
   "cell_type": "code",
   "execution_count": 104,
   "id": "185d358c-b37a-4fbc-89fb-694f1eaaf238",
   "metadata": {},
   "outputs": [
    {
     "name": "stdout",
     "output_type": "stream",
     "text": [
      "  Key  Value1 Key  Value2\n",
      "0   A       1   A       4\n",
      "1   B       2   B       5\n",
      "2   C       3   D       6\n"
     ]
    }
   ],
   "source": [
    "# Concatenate along rows (axis=0)\n",
    "concatenated_df = pd.concat([df1, df2], axis=1)\n",
    "print(concatenated_df)"
   ]
  },
  {
   "cell_type": "code",
   "execution_count": null,
   "id": "8a511c8a-5c82-4358-873b-eb372fcce5ad",
   "metadata": {},
   "outputs": [],
   "source": []
  },
  {
   "cell_type": "markdown",
   "id": "dcbd2263-cb12-4e6b-9607-7f437bf4c448",
   "metadata": {},
   "source": [
    "5. append()\n",
    "- Description: The append() function appends rows of one DataFrame to another. It is similar to concat() with axis=0."
   ]
  },
  {
   "cell_type": "code",
   "execution_count": 105,
   "id": "6a570546-d19c-4e7d-b57f-1f860a295d0a",
   "metadata": {},
   "outputs": [
    {
     "name": "stdout",
     "output_type": "stream",
     "text": [
      "  Key  Value1  Value2\n",
      "0   A     1.0     NaN\n",
      "1   B     2.0     NaN\n",
      "2   C     3.0     NaN\n",
      "3   A     NaN     4.0\n",
      "4   B     NaN     5.0\n",
      "5   D     NaN     6.0\n"
     ]
    },
    {
     "name": "stderr",
     "output_type": "stream",
     "text": [
      "C:\\Users\\Admin\\AppData\\Local\\Temp\\ipykernel_12052\\985678623.py:2: FutureWarning: The frame.append method is deprecated and will be removed from pandas in a future version. Use pandas.concat instead.\n",
      "  appended_df = df1.append(df2, ignore_index=True)\n"
     ]
    }
   ],
   "source": [
    "# Append df2 to df1\n",
    "appended_df = df1.append(df2, ignore_index=True)\n",
    "print(appended_df)"
   ]
  },
  {
   "cell_type": "code",
   "execution_count": null,
   "id": "f7b8e48c-37f1-438d-a343-1f01f518162a",
   "metadata": {},
   "outputs": [],
   "source": []
  },
  {
   "cell_type": "markdown",
   "id": "6febfd8f-9125-48fd-9172-078e1aa96353",
   "metadata": {},
   "source": [
    "6. melt()\n",
    "- Description: The melt() function unpivots a DataFrame from wide format to long format. It turns columns into rows."
   ]
  },
  {
   "cell_type": "code",
   "execution_count": 107,
   "id": "e365b5ab-0429-46bd-863f-6a6c2f0e1966",
   "metadata": {},
   "outputs": [
    {
     "data": {
      "text/html": [
       "<div>\n",
       "<style scoped>\n",
       "    .dataframe tbody tr th:only-of-type {\n",
       "        vertical-align: middle;\n",
       "    }\n",
       "\n",
       "    .dataframe tbody tr th {\n",
       "        vertical-align: top;\n",
       "    }\n",
       "\n",
       "    .dataframe thead th {\n",
       "        text-align: right;\n",
       "    }\n",
       "</style>\n",
       "<table border=\"1\" class=\"dataframe\">\n",
       "  <thead>\n",
       "    <tr style=\"text-align: right;\">\n",
       "      <th></th>\n",
       "      <th>ID</th>\n",
       "      <th>A</th>\n",
       "      <th>B</th>\n",
       "    </tr>\n",
       "  </thead>\n",
       "  <tbody>\n",
       "    <tr>\n",
       "      <th>0</th>\n",
       "      <td>1</td>\n",
       "      <td>10</td>\n",
       "      <td>30</td>\n",
       "    </tr>\n",
       "    <tr>\n",
       "      <th>1</th>\n",
       "      <td>2</td>\n",
       "      <td>20</td>\n",
       "      <td>40</td>\n",
       "    </tr>\n",
       "  </tbody>\n",
       "</table>\n",
       "</div>"
      ],
      "text/plain": [
       "   ID   A   B\n",
       "0   1  10  30\n",
       "1   2  20  40"
      ]
     },
     "execution_count": 107,
     "metadata": {},
     "output_type": "execute_result"
    }
   ],
   "source": [
    "# Sample wide DataFrame\n",
    "df_wide = pd.DataFrame({'ID': [1, 2], 'A': [10, 20], 'B': [30, 40]})\n",
    "df_wide"
   ]
  },
  {
   "cell_type": "code",
   "execution_count": null,
   "id": "2b36db0a-c4d7-4128-bbbb-2785e455377d",
   "metadata": {},
   "outputs": [],
   "source": []
  },
  {
   "cell_type": "code",
   "execution_count": 108,
   "id": "e53c2bb0-5904-41ac-a5ac-1282d8cd5f1d",
   "metadata": {},
   "outputs": [
    {
     "data": {
      "text/html": [
       "<div>\n",
       "<style scoped>\n",
       "    .dataframe tbody tr th:only-of-type {\n",
       "        vertical-align: middle;\n",
       "    }\n",
       "\n",
       "    .dataframe tbody tr th {\n",
       "        vertical-align: top;\n",
       "    }\n",
       "\n",
       "    .dataframe thead th {\n",
       "        text-align: right;\n",
       "    }\n",
       "</style>\n",
       "<table border=\"1\" class=\"dataframe\">\n",
       "  <thead>\n",
       "    <tr style=\"text-align: right;\">\n",
       "      <th></th>\n",
       "      <th>ID</th>\n",
       "      <th>variable</th>\n",
       "      <th>value</th>\n",
       "    </tr>\n",
       "  </thead>\n",
       "  <tbody>\n",
       "    <tr>\n",
       "      <th>0</th>\n",
       "      <td>1</td>\n",
       "      <td>A</td>\n",
       "      <td>10</td>\n",
       "    </tr>\n",
       "    <tr>\n",
       "      <th>1</th>\n",
       "      <td>2</td>\n",
       "      <td>A</td>\n",
       "      <td>20</td>\n",
       "    </tr>\n",
       "    <tr>\n",
       "      <th>2</th>\n",
       "      <td>1</td>\n",
       "      <td>B</td>\n",
       "      <td>30</td>\n",
       "    </tr>\n",
       "    <tr>\n",
       "      <th>3</th>\n",
       "      <td>2</td>\n",
       "      <td>B</td>\n",
       "      <td>40</td>\n",
       "    </tr>\n",
       "  </tbody>\n",
       "</table>\n",
       "</div>"
      ],
      "text/plain": [
       "   ID variable  value\n",
       "0   1        A     10\n",
       "1   2        A     20\n",
       "2   1        B     30\n",
       "3   2        B     40"
      ]
     },
     "execution_count": 108,
     "metadata": {},
     "output_type": "execute_result"
    }
   ],
   "source": [
    "# Melt the DataFrame\n",
    "melted_df = pd.melt(df_wide, id_vars=['ID'], value_vars=['A', 'B'])\n",
    "melted_df"
   ]
  },
  {
   "cell_type": "code",
   "execution_count": null,
   "id": "2c9c2693-9ffb-44e4-868d-6bc69852b4a9",
   "metadata": {},
   "outputs": [],
   "source": []
  },
  {
   "cell_type": "markdown",
   "id": "48895013-b7ba-4a30-8e82-87697726ea56",
   "metadata": {},
   "source": [
    "7. pivot()\n",
    "- Description: The pivot() function reshapes data from long format to wide format, turning unique values in a column into separate columns."
   ]
  },
  {
   "cell_type": "code",
   "execution_count": 110,
   "id": "245eb172-c489-49b3-852b-6aa7548743cb",
   "metadata": {},
   "outputs": [
    {
     "data": {
      "text/html": [
       "<div>\n",
       "<style scoped>\n",
       "    .dataframe tbody tr th:only-of-type {\n",
       "        vertical-align: middle;\n",
       "    }\n",
       "\n",
       "    .dataframe tbody tr th {\n",
       "        vertical-align: top;\n",
       "    }\n",
       "\n",
       "    .dataframe thead th {\n",
       "        text-align: right;\n",
       "    }\n",
       "</style>\n",
       "<table border=\"1\" class=\"dataframe\">\n",
       "  <thead>\n",
       "    <tr style=\"text-align: right;\">\n",
       "      <th></th>\n",
       "      <th>ID</th>\n",
       "      <th>Variable</th>\n",
       "      <th>Value</th>\n",
       "    </tr>\n",
       "  </thead>\n",
       "  <tbody>\n",
       "    <tr>\n",
       "      <th>0</th>\n",
       "      <td>1</td>\n",
       "      <td>A</td>\n",
       "      <td>10</td>\n",
       "    </tr>\n",
       "    <tr>\n",
       "      <th>1</th>\n",
       "      <td>1</td>\n",
       "      <td>B</td>\n",
       "      <td>30</td>\n",
       "    </tr>\n",
       "    <tr>\n",
       "      <th>2</th>\n",
       "      <td>2</td>\n",
       "      <td>A</td>\n",
       "      <td>20</td>\n",
       "    </tr>\n",
       "    <tr>\n",
       "      <th>3</th>\n",
       "      <td>2</td>\n",
       "      <td>B</td>\n",
       "      <td>40</td>\n",
       "    </tr>\n",
       "  </tbody>\n",
       "</table>\n",
       "</div>"
      ],
      "text/plain": [
       "   ID Variable  Value\n",
       "0   1        A     10\n",
       "1   1        B     30\n",
       "2   2        A     20\n",
       "3   2        B     40"
      ]
     },
     "execution_count": 110,
     "metadata": {},
     "output_type": "execute_result"
    }
   ],
   "source": [
    "# Sample long DataFrame\n",
    "df_long = pd.DataFrame({'ID': [1, 1, 2, 2],\n",
    "                        'Variable': ['A', 'B', 'A', 'B'],\n",
    "                        'Value': [10, 30, 20, 40]})\n",
    "df_long "
   ]
  },
  {
   "cell_type": "code",
   "execution_count": null,
   "id": "6afb12a3-d7d6-4fe8-91b8-50b565cb515b",
   "metadata": {},
   "outputs": [],
   "source": []
  },
  {
   "cell_type": "code",
   "execution_count": 111,
   "id": "3be7906c-90cd-46ac-a521-800e84080dad",
   "metadata": {},
   "outputs": [
    {
     "data": {
      "text/html": [
       "<div>\n",
       "<style scoped>\n",
       "    .dataframe tbody tr th:only-of-type {\n",
       "        vertical-align: middle;\n",
       "    }\n",
       "\n",
       "    .dataframe tbody tr th {\n",
       "        vertical-align: top;\n",
       "    }\n",
       "\n",
       "    .dataframe thead th {\n",
       "        text-align: right;\n",
       "    }\n",
       "</style>\n",
       "<table border=\"1\" class=\"dataframe\">\n",
       "  <thead>\n",
       "    <tr style=\"text-align: right;\">\n",
       "      <th>Variable</th>\n",
       "      <th>A</th>\n",
       "      <th>B</th>\n",
       "    </tr>\n",
       "    <tr>\n",
       "      <th>ID</th>\n",
       "      <th></th>\n",
       "      <th></th>\n",
       "    </tr>\n",
       "  </thead>\n",
       "  <tbody>\n",
       "    <tr>\n",
       "      <th>1</th>\n",
       "      <td>10</td>\n",
       "      <td>30</td>\n",
       "    </tr>\n",
       "    <tr>\n",
       "      <th>2</th>\n",
       "      <td>20</td>\n",
       "      <td>40</td>\n",
       "    </tr>\n",
       "  </tbody>\n",
       "</table>\n",
       "</div>"
      ],
      "text/plain": [
       "Variable   A   B\n",
       "ID              \n",
       "1         10  30\n",
       "2         20  40"
      ]
     },
     "execution_count": 111,
     "metadata": {},
     "output_type": "execute_result"
    }
   ],
   "source": [
    "# Pivot the DataFrame\n",
    "pivoted_df = df_long.pivot(index='ID', columns='Variable', values='Value')\n",
    "pivoted_df"
   ]
  },
  {
   "cell_type": "code",
   "execution_count": null,
   "id": "879a25c6-753c-4544-b725-06dc45cb6015",
   "metadata": {},
   "outputs": [],
   "source": []
  },
  {
   "cell_type": "markdown",
   "id": "393b743c-46b0-4b90-87ed-e8877bf1fcce",
   "metadata": {},
   "source": [
    "8. pivot_table()\n",
    "- Description: The pivot_table() function is similar to pivot(), but it allows for more advanced aggregation and handling of duplicate values."
   ]
  },
  {
   "cell_type": "code",
   "execution_count": 112,
   "id": "c251700c-5e6b-4951-b0ce-6fd4adf04cac",
   "metadata": {},
   "outputs": [
    {
     "data": {
      "text/html": [
       "<div>\n",
       "<style scoped>\n",
       "    .dataframe tbody tr th:only-of-type {\n",
       "        vertical-align: middle;\n",
       "    }\n",
       "\n",
       "    .dataframe tbody tr th {\n",
       "        vertical-align: top;\n",
       "    }\n",
       "\n",
       "    .dataframe thead th {\n",
       "        text-align: right;\n",
       "    }\n",
       "</style>\n",
       "<table border=\"1\" class=\"dataframe\">\n",
       "  <thead>\n",
       "    <tr style=\"text-align: right;\">\n",
       "      <th></th>\n",
       "      <th>ID</th>\n",
       "      <th>Category</th>\n",
       "      <th>Value</th>\n",
       "    </tr>\n",
       "  </thead>\n",
       "  <tbody>\n",
       "    <tr>\n",
       "      <th>0</th>\n",
       "      <td>1</td>\n",
       "      <td>A</td>\n",
       "      <td>10</td>\n",
       "    </tr>\n",
       "    <tr>\n",
       "      <th>1</th>\n",
       "      <td>1</td>\n",
       "      <td>A</td>\n",
       "      <td>30</td>\n",
       "    </tr>\n",
       "    <tr>\n",
       "      <th>2</th>\n",
       "      <td>2</td>\n",
       "      <td>B</td>\n",
       "      <td>20</td>\n",
       "    </tr>\n",
       "    <tr>\n",
       "      <th>3</th>\n",
       "      <td>2</td>\n",
       "      <td>B</td>\n",
       "      <td>40</td>\n",
       "    </tr>\n",
       "  </tbody>\n",
       "</table>\n",
       "</div>"
      ],
      "text/plain": [
       "   ID Category  Value\n",
       "0   1        A     10\n",
       "1   1        A     30\n",
       "2   2        B     20\n",
       "3   2        B     40"
      ]
     },
     "execution_count": 112,
     "metadata": {},
     "output_type": "execute_result"
    }
   ],
   "source": [
    "# Sample DataFrame with duplicate entries\n",
    "df_duplicate = pd.DataFrame({'ID': [1, 1, 2, 2],\n",
    "                             'Category': ['A', 'A', 'B', 'B'],\n",
    "                             'Value': [10, 30, 20, 40]})\n",
    "df_duplicate"
   ]
  },
  {
   "cell_type": "code",
   "execution_count": null,
   "id": "b2c95238-7ac7-4fb3-866d-bc43a8662393",
   "metadata": {},
   "outputs": [],
   "source": []
  },
  {
   "cell_type": "code",
   "execution_count": 113,
   "id": "45d3cfd1-f2ee-45af-b7af-2c1137cbb294",
   "metadata": {},
   "outputs": [
    {
     "name": "stdout",
     "output_type": "stream",
     "text": [
      "Category     A     B\n",
      "ID                  \n",
      "1         20.0   NaN\n",
      "2          NaN  30.0\n"
     ]
    }
   ],
   "source": [
    "# Create a pivot table with aggregation (e.g., mean)\n",
    "pivot_table_df = df_duplicate.pivot_table(index='ID', columns='Category', values='Value', aggfunc='mean')\n",
    "print(pivot_table_df)"
   ]
  },
  {
   "cell_type": "code",
   "execution_count": null,
   "id": "3d3ff2e0-59e9-4037-9045-09983cc46855",
   "metadata": {},
   "outputs": [],
   "source": []
  },
  {
   "cell_type": "markdown",
   "id": "f9ad061b-e3b8-4e12-b995-6c948abbc805",
   "metadata": {},
   "source": [
    "Summary:\n",
    "- groupby() and get_group() allow you to group data and retrieve specific groups.\n",
    "-merge(), concat(), and append() are used for combining DataFrames.\n",
    "- melt() converts wide data to long format.\n",
    "- pivot() and pivot_table() convert long data to wide format, with pivot_table() providing more advanced aggregation options."
   ]
  },
  {
   "cell_type": "code",
   "execution_count": null,
   "id": "8edd1fac-01c9-48ae-911b-e72d00a18402",
   "metadata": {},
   "outputs": [],
   "source": []
  },
  {
   "cell_type": "markdown",
   "id": "3e538d76-fe8a-40c6-8db2-a843dcb7b65a",
   "metadata": {},
   "source": [
    " # Some other functions: get_option(), set_option(), reset_option(), describe_option(), option_context"
   ]
  },
  {
   "cell_type": "code",
   "execution_count": null,
   "id": "e5c5c29a-79a5-408b-b76d-434d64c3098c",
   "metadata": {},
   "outputs": [],
   "source": []
  }
 ],
 "metadata": {
  "kernelspec": {
   "display_name": "Python 3 (ipykernel)",
   "language": "python",
   "name": "python3"
  },
  "language_info": {
   "codemirror_mode": {
    "name": "ipython",
    "version": 3
   },
   "file_extension": ".py",
   "mimetype": "text/x-python",
   "name": "python",
   "nbconvert_exporter": "python",
   "pygments_lexer": "ipython3",
   "version": "3.11.7"
  },
  "widgets": {
   "application/vnd.jupyter.widget-state+json": {
    "state": {},
    "version_major": 2,
    "version_minor": 0
   }
  }
 },
 "nbformat": 4,
 "nbformat_minor": 5
}
